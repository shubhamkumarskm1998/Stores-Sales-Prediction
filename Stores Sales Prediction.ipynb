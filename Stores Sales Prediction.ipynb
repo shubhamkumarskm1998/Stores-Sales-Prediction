{
 "cells": [
  {
   "cell_type": "markdown",
   "metadata": {},
   "source": [
    "## Predicting Rossmann store sales using Spark framework"
   ]
  },
  {
   "cell_type": "markdown",
   "metadata": {},
   "source": [
    "### Initialize the spark"
   ]
  },
  {
   "cell_type": "code",
   "execution_count": 1,
   "metadata": {},
   "outputs": [
    {
     "name": "stdout",
     "output_type": "stream",
     "text": [
      "+-----+\n",
      "|hello|\n",
      "+-----+\n",
      "|spark|\n",
      "+-----+\n",
      "\n"
     ]
    }
   ],
   "source": [
    "\n",
    "import findspark\n",
    "findspark.init()\n",
    "\n",
    "import pyspark # only run after findspark.init()\n",
    "from pyspark.sql import SparkSession\n",
    "spark = SparkSession.builder.getOrCreate()\n",
    "\n",
    "df = spark.sql('''select 'spark' as hello ''')\n",
    "\n",
    "df.show()"
   ]
  },
  {
   "cell_type": "markdown",
   "metadata": {},
   "source": [
    "# Introduction\n",
    "Rossmann operates over 3,000 drug stores in 7 European countries. Currently, Rossmann store managers are tasked with predicting their daily sales for up to six weeks in advance. Store sales are influenced by many factors, including promotions, competition, school and state holidays, seasonality, and locality. With thousands of individual managers predicting sales based on their unique circumstances, the accuracy of results can be quite varied.\n",
    "\n",
    "This dataset is taken from a kaggle competition\n",
    "The dataset contains historical sales data for 1,115 Rossmann stores.\n",
    "\n",
    "train.csv - historical data including Sales\n",
    "store.csv - supplemental information about the stores\n",
    "\n",
    "As part of this exercise, we build a model to predict sales in various stores and use spark framework to explore and build predictive model."
   ]
  },
  {
   "cell_type": "markdown",
   "metadata": {},
   "source": [
    "# Importing Data"
   ]
  },
  {
   "cell_type": "code",
   "execution_count": 2,
   "metadata": {},
   "outputs": [],
   "source": [
    "retail_df = spark.read.csv('C:/Users/USER/Desktop/PySpark/Rossman Stores/train.csv',inferSchema=True,header=True)"
   ]
  },
  {
   "cell_type": "code",
   "execution_count": 3,
   "metadata": {},
   "outputs": [
    {
     "name": "stdout",
     "output_type": "stream",
     "text": [
      "root\n",
      " |-- Store: integer (nullable = true)\n",
      " |-- DayOfWeek: integer (nullable = true)\n",
      " |-- Date: timestamp (nullable = true)\n",
      " |-- Sales: integer (nullable = true)\n",
      " |-- Customers: integer (nullable = true)\n",
      " |-- Open: integer (nullable = true)\n",
      " |-- Promo: integer (nullable = true)\n",
      " |-- StateHoliday: string (nullable = true)\n",
      " |-- SchoolHoliday: integer (nullable = true)\n",
      "\n"
     ]
    }
   ],
   "source": [
    "retail_df.printSchema()"
   ]
  },
  {
   "cell_type": "markdown",
   "metadata": {},
   "source": [
    "From kaggle site, the column definitions are as follows\n",
    "\n",
    "- Store - a unique Id for each store\n",
    "- Sales - the turnover for any given day (this is what you are predicting)\n",
    "- Customers - the number of customers on a given day\n",
    "- Open - an indicator for whether the store was open: 0 = closed, 1 = open\n",
    "- StateHoliday - indicates a state holiday. Normally all stores, with few exceptions, are closed on state holidays. Note that all schools are closed on public holidays and weekends. a = public holiday, b = Easter holiday, c = Christmas, 0 = None\n",
    "- SchoolHoliday - indicates if the (Store, Date) was affected by the closure of public schools\n",
    "- Promo - indicates whether a store is running a promo on that day"
   ]
  },
  {
   "cell_type": "markdown",
   "metadata": {},
   "source": [
    "# Exploring the data"
   ]
  },
  {
   "cell_type": "code",
   "execution_count": 4,
   "metadata": {},
   "outputs": [
    {
     "data": {
      "text/plain": [
       "DataFrame[Store: int, DayOfWeek: int, Date: timestamp, Sales: int, Customers: int, Open: int, Promo: int, StateHoliday: string, SchoolHoliday: int]"
      ]
     },
     "execution_count": 4,
     "metadata": {},
     "output_type": "execute_result"
    }
   ],
   "source": [
    "retail_df.cache()"
   ]
  },
  {
   "cell_type": "code",
   "execution_count": 5,
   "metadata": {},
   "outputs": [
    {
     "name": "stdout",
     "output_type": "stream",
     "text": [
      "+-----+---------+-------------------+-----+---------+----+-----+------------+-------------+\n",
      "|Store|DayOfWeek|               Date|Sales|Customers|Open|Promo|StateHoliday|SchoolHoliday|\n",
      "+-----+---------+-------------------+-----+---------+----+-----+------------+-------------+\n",
      "|    1|        5|2015-07-31 00:00:00| 5263|      555|   1|    1|           0|            1|\n",
      "|    2|        5|2015-07-31 00:00:00| 6064|      625|   1|    1|           0|            1|\n",
      "|    3|        5|2015-07-31 00:00:00| 8314|      821|   1|    1|           0|            1|\n",
      "|    4|        5|2015-07-31 00:00:00|13995|     1498|   1|    1|           0|            1|\n",
      "|    5|        5|2015-07-31 00:00:00| 4822|      559|   1|    1|           0|            1|\n",
      "+-----+---------+-------------------+-----+---------+----+-----+------------+-------------+\n",
      "only showing top 5 rows\n",
      "\n"
     ]
    }
   ],
   "source": [
    "retail_df.show( 5 )"
   ]
  },
  {
   "cell_type": "code",
   "execution_count": 7,
   "metadata": {},
   "outputs": [
    {
     "data": {
      "text/plain": [
       "1017209"
      ]
     },
     "execution_count": 7,
     "metadata": {},
     "output_type": "execute_result"
    }
   ],
   "source": [
    "retail_df.count()"
   ]
  },
  {
   "cell_type": "code",
   "execution_count": 10,
   "metadata": {},
   "outputs": [
    {
     "data": {
      "text/plain": [
       "['Store',\n",
       " 'DayOfWeek',\n",
       " 'Date',\n",
       " 'Sales',\n",
       " 'Customers',\n",
       " 'Open',\n",
       " 'Promo',\n",
       " 'StateHoliday',\n",
       " 'SchoolHoliday']"
      ]
     },
     "execution_count": 10,
     "metadata": {},
     "output_type": "execute_result"
    }
   ],
   "source": [
    "retail_df.columns"
   ]
  },
  {
   "cell_type": "code",
   "execution_count": 13,
   "metadata": {},
   "outputs": [],
   "source": [
    "#Selecting few columns from a dataframe\n",
    "sales_custs_df = retail_df.select( \"Store\", \"Sales\", \"Customers\" )"
   ]
  },
  {
   "cell_type": "code",
   "execution_count": 14,
   "metadata": {},
   "outputs": [
    {
     "name": "stdout",
     "output_type": "stream",
     "text": [
      "+-----+-----+---------+\n",
      "|Store|Sales|Customers|\n",
      "+-----+-----+---------+\n",
      "|    1| 5263|      555|\n",
      "|    2| 6064|      625|\n",
      "|    3| 8314|      821|\n",
      "|    4|13995|     1498|\n",
      "|    5| 4822|      559|\n",
      "+-----+-----+---------+\n",
      "only showing top 5 rows\n",
      "\n"
     ]
    }
   ],
   "source": [
    "sales_custs_df.show( 5 )"
   ]
  },
  {
   "cell_type": "code",
   "execution_count": 15,
   "metadata": {},
   "outputs": [],
   "source": [
    "#Filtering records based on a condition\n",
    "retails_open_df = retail_df.where( retail_df.Open > 0  )"
   ]
  },
  {
   "cell_type": "code",
   "execution_count": 16,
   "metadata": {},
   "outputs": [
    {
     "name": "stdout",
     "output_type": "stream",
     "text": [
      "+-----+---------+-------------------+-----+---------+----+-----+------------+-------------+\n",
      "|Store|DayOfWeek|               Date|Sales|Customers|Open|Promo|StateHoliday|SchoolHoliday|\n",
      "+-----+---------+-------------------+-----+---------+----+-----+------------+-------------+\n",
      "|    1|        5|2015-07-31 00:00:00| 5263|      555|   1|    1|           0|            1|\n",
      "|    2|        5|2015-07-31 00:00:00| 6064|      625|   1|    1|           0|            1|\n",
      "|    3|        5|2015-07-31 00:00:00| 8314|      821|   1|    1|           0|            1|\n",
      "|    4|        5|2015-07-31 00:00:00|13995|     1498|   1|    1|           0|            1|\n",
      "|    5|        5|2015-07-31 00:00:00| 4822|      559|   1|    1|           0|            1|\n",
      "+-----+---------+-------------------+-----+---------+----+-----+------------+-------------+\n",
      "only showing top 5 rows\n",
      "\n"
     ]
    }
   ],
   "source": [
    "retails_open_df.show( 5 )"
   ]
  },
  {
   "cell_type": "code",
   "execution_count": 17,
   "metadata": {},
   "outputs": [],
   "source": [
    "#How many stores remained \"Open\" on days when it was both school and state holiday?\n",
    "holidays_df = retail_df.where( ( retail_df.StateHoliday == 1 ) & ( retail_df.SchoolHoliday == 1 ) )"
   ]
  },
  {
   "cell_type": "code",
   "execution_count": 18,
   "metadata": {},
   "outputs": [
    {
     "name": "stdout",
     "output_type": "stream",
     "text": [
      "+-----+---------+----+-----+---------+----+-----+------------+-------------+\n",
      "|Store|DayOfWeek|Date|Sales|Customers|Open|Promo|StateHoliday|SchoolHoliday|\n",
      "+-----+---------+----+-----+---------+----+-----+------------+-------------+\n",
      "+-----+---------+----+-----+---------+----+-----+------------+-------------+\n",
      "\n"
     ]
    }
   ],
   "source": [
    "holidays_df.where( holidays_df.Open == 0 ).show( 1 )"
   ]
  },
  {
   "cell_type": "markdown",
   "metadata": {},
   "source": [
    "None of those days any store was opened?"
   ]
  },
  {
   "cell_type": "code",
   "execution_count": 22,
   "metadata": {},
   "outputs": [
    {
     "data": {
      "text/plain": [
       "1115"
      ]
     },
     "execution_count": 22,
     "metadata": {},
     "output_type": "execute_result"
    }
   ],
   "source": [
    "#How many stores?\n",
    "store_ids = retail_df.select( retail_df.Store ).distinct()\n",
    "\n",
    "store_ids.count()"
   ]
  },
  {
   "cell_type": "code",
   "execution_count": 23,
   "metadata": {},
   "outputs": [
    {
     "name": "stdout",
     "output_type": "stream",
     "text": [
      "+---------------+------+-----+\n",
      "|DayOfWeek_Promo|     0|    1|\n",
      "+---------------+------+-----+\n",
      "|              5| 68265|77580|\n",
      "|              1| 66970|77760|\n",
      "|              6|144730|    0|\n",
      "|              2| 68084|77580|\n",
      "|              7|144730|    0|\n",
      "|              3| 68085|77580|\n",
      "|              4| 68265|77580|\n",
      "+---------------+------+-----+\n",
      "\n"
     ]
    }
   ],
   "source": [
    "#Which weekday have maximum number of promos running?\n",
    "weekday_promos = retail_df.stat.crosstab( \"DayOfWeek\" , \"Promo\" )\n",
    "weekday_promos.show( 10 )"
   ]
  },
  {
   "cell_type": "code",
   "execution_count": 24,
   "metadata": {},
   "outputs": [],
   "source": [
    "#Renaming the columns\n",
    "weekday_promos = weekday_promos.withColumnRenamed( \"DayOfWeek_Promo\", \"DayOfWeek\" )  \\\n",
    "                             .withColumnRenamed( \"0\", \"NoPromo\" )                  \\\n",
    "                             .withColumnRenamed( \"1\",\"Promo\" )"
   ]
  },
  {
   "cell_type": "code",
   "execution_count": 25,
   "metadata": {},
   "outputs": [
    {
     "name": "stdout",
     "output_type": "stream",
     "text": [
      "+---------+-------+-----+\n",
      "|DayOfWeek|NoPromo|Promo|\n",
      "+---------+-------+-----+\n",
      "|        5|  68265|77580|\n",
      "|        1|  66970|77760|\n",
      "|        6| 144730|    0|\n",
      "|        2|  68084|77580|\n",
      "|        7| 144730|    0|\n",
      "+---------+-------+-----+\n",
      "only showing top 5 rows\n",
      "\n"
     ]
    }
   ],
   "source": [
    "weekday_promos.show(5)"
   ]
  },
  {
   "cell_type": "code",
   "execution_count": 27,
   "metadata": {},
   "outputs": [
    {
     "name": "stdout",
     "output_type": "stream",
     "text": [
      "+---------+-------+-----+\n",
      "|DayOfWeek|NoPromo|Promo|\n",
      "+---------+-------+-----+\n",
      "|        7| 144730|    0|\n",
      "|        6| 144730|    0|\n",
      "|        3|  68085|77580|\n",
      "|        2|  68084|77580|\n",
      "|        4|  68265|77580|\n",
      "|        5|  68265|77580|\n",
      "|        1|  66970|77760|\n",
      "+---------+-------+-----+\n",
      "\n"
     ]
    }
   ],
   "source": [
    "#Sorting dataframe by column in ascending and descending order\n",
    "weekday_promos.sort( \"Promo\" ).show()"
   ]
  },
  {
   "cell_type": "code",
   "execution_count": 28,
   "metadata": {},
   "outputs": [
    {
     "name": "stdout",
     "output_type": "stream",
     "text": [
      "+---------+-------+-----+\n",
      "|DayOfWeek|NoPromo|Promo|\n",
      "+---------+-------+-----+\n",
      "|        1|  66970|77760|\n",
      "|        2|  68084|77580|\n",
      "|        5|  68265|77580|\n",
      "|        3|  68085|77580|\n",
      "|        4|  68265|77580|\n",
      "|        6| 144730|    0|\n",
      "|        7| 144730|    0|\n",
      "+---------+-------+-----+\n",
      "\n"
     ]
    }
   ],
   "source": [
    "weekday_promos.sort( \"Promo\", ascending = False ).show()"
   ]
  },
  {
   "cell_type": "markdown",
   "metadata": {},
   "source": [
    "No promos running on weekends. This may be because sales are typically high on the weekends."
   ]
  },
  {
   "cell_type": "code",
   "execution_count": 29,
   "metadata": {},
   "outputs": [],
   "source": [
    "#Add a month column\n",
    "from pyspark.sql.functions import month, year\n",
    "retail_df = retail_df.withColumn( 'month', month( retail_df.Date ) )"
   ]
  },
  {
   "cell_type": "code",
   "execution_count": 30,
   "metadata": {},
   "outputs": [],
   "source": [
    "retail_df = retail_df.withColumn( 'year', year( retail_df.Date ) )"
   ]
  },
  {
   "cell_type": "code",
   "execution_count": 31,
   "metadata": {},
   "outputs": [
    {
     "name": "stdout",
     "output_type": "stream",
     "text": [
      "+-----+---------+-------------------+-----+---------+----+-----+------------+-------------+-----+----+\n",
      "|Store|DayOfWeek|               Date|Sales|Customers|Open|Promo|StateHoliday|SchoolHoliday|month|year|\n",
      "+-----+---------+-------------------+-----+---------+----+-----+------------+-------------+-----+----+\n",
      "|    1|        5|2015-07-31 00:00:00| 5263|      555|   1|    1|           0|            1|    7|2015|\n",
      "|    2|        5|2015-07-31 00:00:00| 6064|      625|   1|    1|           0|            1|    7|2015|\n",
      "|    3|        5|2015-07-31 00:00:00| 8314|      821|   1|    1|           0|            1|    7|2015|\n",
      "|    4|        5|2015-07-31 00:00:00|13995|     1498|   1|    1|           0|            1|    7|2015|\n",
      "|    5|        5|2015-07-31 00:00:00| 4822|      559|   1|    1|           0|            1|    7|2015|\n",
      "+-----+---------+-------------------+-----+---------+----+-----+------------+-------------+-----+----+\n",
      "only showing top 5 rows\n",
      "\n"
     ]
    }
   ],
   "source": [
    "retail_df.show( 5 )"
   ]
  },
  {
   "cell_type": "code",
   "execution_count": 32,
   "metadata": {},
   "outputs": [],
   "source": [
    "#Data Aggregations\n",
    "#1. Sales Contribution by stores\n",
    "sales_by_stores = retail_df.groupBy( \"Store\" ).sum( \"Sales\" )"
   ]
  },
  {
   "cell_type": "code",
   "execution_count": 33,
   "metadata": {},
   "outputs": [
    {
     "name": "stdout",
     "output_type": "stream",
     "text": [
      "+-----+----------+\n",
      "|Store|sum(Sales)|\n",
      "+-----+----------+\n",
      "|  148|   6772949|\n",
      "|  463|   4747749|\n",
      "|  471|   4422266|\n",
      "|  496|   6059458|\n",
      "|  833|   4293342|\n",
      "+-----+----------+\n",
      "only showing top 5 rows\n",
      "\n"
     ]
    }
   ],
   "source": [
    "sales_by_stores.show( 5 )"
   ]
  },
  {
   "cell_type": "code",
   "execution_count": 34,
   "metadata": {},
   "outputs": [],
   "source": [
    "#Multiple Aggregation\n",
    "sales_by_stores_custs = retail_df.groupBy( \"Store\" ).agg( { \"Sales\" :\"sum\", \"Customers\": \"sum\" } )"
   ]
  },
  {
   "cell_type": "code",
   "execution_count": 35,
   "metadata": {},
   "outputs": [
    {
     "name": "stdout",
     "output_type": "stream",
     "text": [
      "+-----+----------+--------------+\n",
      "|Store|sum(Sales)|sum(Customers)|\n",
      "+-----+----------+--------------+\n",
      "|  148|   6772949|        642470|\n",
      "|  463|   4747749|        755184|\n",
      "|  471|   4422266|        367107|\n",
      "|  496|   6059458|        650918|\n",
      "|  833|   4293342|        394316|\n",
      "+-----+----------+--------------+\n",
      "only showing top 5 rows\n",
      "\n"
     ]
    }
   ],
   "source": [
    "sales_by_stores_custs.show( 5 )"
   ]
  },
  {
   "cell_type": "code",
   "execution_count": 36,
   "metadata": {},
   "outputs": [
    {
     "name": "stdout",
     "output_type": "stream",
     "text": [
      "+-----+----------+--------------+\n",
      "|Store|sum(Sales)|sum(Customers)|\n",
      "+-----+----------+--------------+\n",
      "|  262|  19516842|       3204694|\n",
      "|  817|  17057867|       2454370|\n",
      "|  562|  16927322|       2924960|\n",
      "| 1114|  16202585|       2509542|\n",
      "|  251|  14896870|       1908934|\n",
      "|  513|  14252406|       1643527|\n",
      "|  788|  14082141|       1346835|\n",
      "|  733|  14067158|       3206058|\n",
      "|  383|  13489879|       1720249|\n",
      "|  756|  12911782|       1827980|\n",
      "+-----+----------+--------------+\n",
      "only showing top 10 rows\n",
      "\n"
     ]
    }
   ],
   "source": [
    "#Top 10 stores by sales contribution\n",
    "sales_by_stores_custs.sort( \"sum(Sales)\", ascending = False ).show( 10 )"
   ]
  },
  {
   "cell_type": "code",
   "execution_count": 37,
   "metadata": {},
   "outputs": [],
   "source": [
    "#Average purchase value by customers in each store\n",
    "from pyspark.sql.functions import col, round\n",
    "sales_by_stores_custs = sales_by_stores_custs.withColumn(\n",
    "  \"avg_purchase_val\", round( col( \"sum(Sales)\" ) / col( \"sum(Customers)\" ), 2) )\n"
   ]
  },
  {
   "cell_type": "code",
   "execution_count": 38,
   "metadata": {},
   "outputs": [
    {
     "name": "stdout",
     "output_type": "stream",
     "text": [
      "+-----+----------+--------------+----------------+\n",
      "|Store|sum(Sales)|sum(Customers)|avg_purchase_val|\n",
      "+-----+----------+--------------+----------------+\n",
      "|  148|   6772949|        642470|           10.54|\n",
      "|  463|   4747749|        755184|            6.29|\n",
      "|  471|   4422266|        367107|           12.05|\n",
      "|  496|   6059458|        650918|            9.31|\n",
      "|  833|   4293342|        394316|           10.89|\n",
      "| 1088|   3960984|        377930|           10.48|\n",
      "|  243|   4407146|        594010|            7.42|\n",
      "|  392|   5670675|        559386|           10.14|\n",
      "|  540|   3513672|        243396|           14.44|\n",
      "|  623|   5473895|        639137|            8.56|\n",
      "+-----+----------+--------------+----------------+\n",
      "only showing top 10 rows\n",
      "\n"
     ]
    }
   ],
   "source": [
    "sales_by_stores_custs.show( 10 )"
   ]
  },
  {
   "cell_type": "code",
   "execution_count": 39,
   "metadata": {},
   "outputs": [],
   "source": [
    "avg_purchse_val = sales_by_stores_custs.sort( \"avg_purchase_val\", ascending = False )"
   ]
  },
  {
   "cell_type": "code",
   "execution_count": 42,
   "metadata": {},
   "outputs": [],
   "source": [
    "import matplotlib.pyplot as plt\n",
    "import seaborn as sn\n",
    "%matplotlib inline"
   ]
  },
  {
   "cell_type": "code",
   "execution_count": 43,
   "metadata": {},
   "outputs": [
    {
     "data": {
      "text/html": [
       "<div>\n",
       "<style scoped>\n",
       "    .dataframe tbody tr th:only-of-type {\n",
       "        vertical-align: middle;\n",
       "    }\n",
       "\n",
       "    .dataframe tbody tr th {\n",
       "        vertical-align: top;\n",
       "    }\n",
       "\n",
       "    .dataframe thead th {\n",
       "        text-align: right;\n",
       "    }\n",
       "</style>\n",
       "<table border=\"1\" class=\"dataframe\">\n",
       "  <thead>\n",
       "    <tr style=\"text-align: right;\">\n",
       "      <th></th>\n",
       "      <th>Store</th>\n",
       "      <th>sum(Sales)</th>\n",
       "      <th>sum(Customers)</th>\n",
       "      <th>avg_purchase_val</th>\n",
       "    </tr>\n",
       "  </thead>\n",
       "  <tbody>\n",
       "    <tr>\n",
       "      <th>0</th>\n",
       "      <td>842</td>\n",
       "      <td>11553523</td>\n",
       "      <td>714829</td>\n",
       "      <td>16.16</td>\n",
       "    </tr>\n",
       "    <tr>\n",
       "      <th>1</th>\n",
       "      <td>612</td>\n",
       "      <td>4246423</td>\n",
       "      <td>264263</td>\n",
       "      <td>16.07</td>\n",
       "    </tr>\n",
       "    <tr>\n",
       "      <th>2</th>\n",
       "      <td>455</td>\n",
       "      <td>5727571</td>\n",
       "      <td>359933</td>\n",
       "      <td>15.91</td>\n",
       "    </tr>\n",
       "    <tr>\n",
       "      <th>3</th>\n",
       "      <td>158</td>\n",
       "      <td>6354198</td>\n",
       "      <td>405068</td>\n",
       "      <td>15.69</td>\n",
       "    </tr>\n",
       "    <tr>\n",
       "      <th>4</th>\n",
       "      <td>52</td>\n",
       "      <td>4607742</td>\n",
       "      <td>313176</td>\n",
       "      <td>14.71</td>\n",
       "    </tr>\n",
       "    <tr>\n",
       "      <th>5</th>\n",
       "      <td>868</td>\n",
       "      <td>7480652</td>\n",
       "      <td>509296</td>\n",
       "      <td>14.69</td>\n",
       "    </tr>\n",
       "    <tr>\n",
       "      <th>6</th>\n",
       "      <td>1115</td>\n",
       "      <td>4922229</td>\n",
       "      <td>337884</td>\n",
       "      <td>14.57</td>\n",
       "    </tr>\n",
       "    <tr>\n",
       "      <th>7</th>\n",
       "      <td>540</td>\n",
       "      <td>3513672</td>\n",
       "      <td>243396</td>\n",
       "      <td>14.44</td>\n",
       "    </tr>\n",
       "    <tr>\n",
       "      <th>8</th>\n",
       "      <td>56</td>\n",
       "      <td>5718290</td>\n",
       "      <td>395919</td>\n",
       "      <td>14.44</td>\n",
       "    </tr>\n",
       "    <tr>\n",
       "      <th>9</th>\n",
       "      <td>1068</td>\n",
       "      <td>3451074</td>\n",
       "      <td>240516</td>\n",
       "      <td>14.35</td>\n",
       "    </tr>\n",
       "  </tbody>\n",
       "</table>\n",
       "</div>"
      ],
      "text/plain": [
       "   Store  sum(Sales)  sum(Customers)  avg_purchase_val\n",
       "0    842    11553523          714829             16.16\n",
       "1    612     4246423          264263             16.07\n",
       "2    455     5727571          359933             15.91\n",
       "3    158     6354198          405068             15.69\n",
       "4     52     4607742          313176             14.71\n",
       "5    868     7480652          509296             14.69\n",
       "6   1115     4922229          337884             14.57\n",
       "7    540     3513672          243396             14.44\n",
       "8     56     5718290          395919             14.44\n",
       "9   1068     3451074          240516             14.35"
      ]
     },
     "execution_count": 43,
     "metadata": {},
     "output_type": "execute_result"
    }
   ],
   "source": [
    "#Collecting the data as pandas dataframe\n",
    "top_10_avg_purchse_val = avg_purchse_val.toPandas()\n",
    "top_10_avg_purchse_val.head( 10 )"
   ]
  },
  {
   "cell_type": "code",
   "execution_count": 44,
   "metadata": {},
   "outputs": [
    {
     "data": {
      "image/png": "[encoded data removed]",
      "text/plain": [
       "<Figure size 720x432 with 1 Axes>"
      ]
     },
     "metadata": {},
     "output_type": "display_data"
    }
   ],
   "source": [
    "#Visualizing top 10 stores by avg_purchase_val\n",
    "sn.set(rc={\"figure.figsize\": (10, 6)});\n",
    "\n",
    "ax = sn.barplot( x = 'Store',\n",
    "         y = 'avg_purchase_val' ,\n",
    "         data = top_10_avg_purchse_val[0:10],\n",
    "         order = top_10_avg_purchse_val.Store[0:10] )\n",
    "\n",
    "ax.set( xlabel='Store Number',\n",
    "     ylabel='Total Sales')\n",
    "plt.show()"
   ]
  },
  {
   "cell_type": "code",
   "execution_count": 45,
   "metadata": {},
   "outputs": [],
   "source": [
    "#Loading Stores Data\n",
    "stores_df  = spark.read.csv('C:/Users/USER/Desktop/PySpark/Rossman Stores/store.csv',inferSchema=True,header=True)"
   ]
  },
  {
   "cell_type": "code",
   "execution_count": 46,
   "metadata": {},
   "outputs": [
    {
     "name": "stdout",
     "output_type": "stream",
     "text": [
      "+-----+---------+----------+-------------------+-------------------------+------------------------+------+---------------+---------------+---------------+\n",
      "|Store|StoreType|Assortment|CompetitionDistance|CompetitionOpenSinceMonth|CompetitionOpenSinceYear|Promo2|Promo2SinceWeek|Promo2SinceYear|  PromoInterval|\n",
      "+-----+---------+----------+-------------------+-------------------------+------------------------+------+---------------+---------------+---------------+\n",
      "|    1|        c|         a|               1270|                        9|                    2008|     0|           null|           null|           null|\n",
      "|    2|        a|         a|                570|                       11|                    2007|     1|             13|           2010|Jan,Apr,Jul,Oct|\n",
      "|    3|        a|         a|              14130|                       12|                    2006|     1|             14|           2011|Jan,Apr,Jul,Oct|\n",
      "|    4|        c|         c|                620|                        9|                    2009|     0|           null|           null|           null|\n",
      "|    5|        a|         a|              29910|                        4|                    2015|     0|           null|           null|           null|\n",
      "+-----+---------+----------+-------------------+-------------------------+------------------------+------+---------------+---------------+---------------+\n",
      "only showing top 5 rows\n",
      "\n"
     ]
    }
   ],
   "source": [
    "stores_df.show( 5 )"
   ]
  },
  {
   "cell_type": "code",
   "execution_count": 47,
   "metadata": {},
   "outputs": [
    {
     "name": "stdout",
     "output_type": "stream",
     "text": [
      "root\n",
      " |-- Store: integer (nullable = true)\n",
      " |-- StoreType: string (nullable = true)\n",
      " |-- Assortment: string (nullable = true)\n",
      " |-- CompetitionDistance: integer (nullable = true)\n",
      " |-- CompetitionOpenSinceMonth: integer (nullable = true)\n",
      " |-- CompetitionOpenSinceYear: integer (nullable = true)\n",
      " |-- Promo2: integer (nullable = true)\n",
      " |-- Promo2SinceWeek: integer (nullable = true)\n",
      " |-- Promo2SinceYear: integer (nullable = true)\n",
      " |-- PromoInterval: string (nullable = true)\n",
      "\n"
     ]
    }
   ],
   "source": [
    "stores_df.printSchema()"
   ]
  },
  {
   "cell_type": "markdown",
   "metadata": {},
   "source": [
    "Again, from kaggle site, the column defintions are as follows:\n",
    "\n",
    "- StoreType - differentiates between 4 different store models: a, b, c, d\n",
    "- Assortment - describes an assortment level: a = basic, b = extra, c = extended\n",
    "- CompetitionDistance - distance in meters to the nearest competitor store\n",
    "- CompetitionOpenSince[Month/Year] - gives the approximate year and month of the time the nearest competitor was opened\n",
    "- Promo - indicates whether a store is running a promo on that day\n",
    "- Promo2 - Promo2 is a continuing and consecutive promotion for some stores: 0 = store is not participating, 1 = store is participating\n",
    "- Promo2Since[Year/Week] - describes the year and calendar week when the store started participating in Promo2\n",
    "- PromoInterval - describes the consecutive intervals Promo2 is started, naming the months the promotion is started anew. E.g. \"Feb,May,Aug,Nov\" means each round starts in February, May, August, November of any given year for that store"
   ]
  },
  {
   "cell_type": "code",
   "execution_count": 48,
   "metadata": {},
   "outputs": [
    {
     "data": {
      "text/plain": [
       "['Store',\n",
       " 'StoreType',\n",
       " 'Assortment',\n",
       " 'CompetitionDistance',\n",
       " 'CompetitionOpenSinceMonth',\n",
       " 'CompetitionOpenSinceYear',\n",
       " 'Promo2',\n",
       " 'Promo2SinceWeek',\n",
       " 'Promo2SinceYear',\n",
       " 'PromoInterval']"
      ]
     },
     "execution_count": 48,
     "metadata": {},
     "output_type": "execute_result"
    }
   ],
   "source": [
    "stores_df.columns"
   ]
  },
  {
   "cell_type": "code",
   "execution_count": 49,
   "metadata": {},
   "outputs": [],
   "source": [
    "#How many different types of stores are there?\n",
    "store_by_types = stores_df.groupBy( \"StoreType\" ).count()"
   ]
  },
  {
   "cell_type": "code",
   "execution_count": 50,
   "metadata": {},
   "outputs": [
    {
     "name": "stdout",
     "output_type": "stream",
     "text": [
      "+---------+-----+\n",
      "|StoreType|count|\n",
      "+---------+-----+\n",
      "|        d|  348|\n",
      "|        c|  148|\n",
      "|        b|   17|\n",
      "|        a|  602|\n",
      "+---------+-----+\n",
      "\n"
     ]
    }
   ],
   "source": [
    "store_by_types.show()"
   ]
  },
  {
   "cell_type": "code",
   "execution_count": 52,
   "metadata": {},
   "outputs": [
    {
     "data": {
      "text/plain": [
       "1115"
      ]
     },
     "execution_count": 52,
     "metadata": {},
     "output_type": "execute_result"
    }
   ],
   "source": [
    "#Different store types in percentages\n",
    "total = stores_df.count()\n",
    "total"
   ]
  },
  {
   "cell_type": "code",
   "execution_count": 53,
   "metadata": {},
   "outputs": [],
   "source": [
    "from pyspark.sql.functions import lit"
   ]
  },
  {
   "cell_type": "code",
   "execution_count": 54,
   "metadata": {},
   "outputs": [
    {
     "name": "stdout",
     "output_type": "stream",
     "text": [
      "+---------+-----+----------+\n",
      "|StoreType|count|percentage|\n",
      "+---------+-----+----------+\n",
      "|        d|  348|      0.31|\n",
      "|        c|  148|      0.13|\n",
      "|        b|   17|      0.02|\n",
      "|        a|  602|      0.54|\n",
      "+---------+-----+----------+\n",
      "\n"
     ]
    }
   ],
   "source": [
    "store_by_types.withColumn( \"percentage\", round( col( \"count\" ) / lit( total ), 2) ).show()"
   ]
  },
  {
   "cell_type": "code",
   "execution_count": 55,
   "metadata": {},
   "outputs": [],
   "source": [
    "#How long competitions exist for the stores?\n",
    "#Write a function to calculate the total months passed since competition is opened?\n",
    "stores_df = stores_df.withColumn(\n",
    "  \"CompetitionOpenSinceMonth\",\n",
    "  stores_df[\"CompetitionOpenSinceMonth\"].cast( 'float' ) )\n",
    "\n",
    "stores_df = stores_df.withColumn(\n",
    "  \"CompetitionOpenSinceYear\",\n",
    "  stores_df[\"CompetitionOpenSinceYear\"].cast( 'float' ) )"
   ]
  },
  {
   "cell_type": "code",
   "execution_count": 56,
   "metadata": {},
   "outputs": [],
   "source": [
    "stores_df = stores_df.fillna( 0.0 )"
   ]
  },
  {
   "cell_type": "code",
   "execution_count": 57,
   "metadata": {},
   "outputs": [
    {
     "name": "stdout",
     "output_type": "stream",
     "text": [
      "+-----+---------+----------+-------------------+-------------------------+------------------------+------+---------------+---------------+-------------+\n",
      "|Store|StoreType|Assortment|CompetitionDistance|CompetitionOpenSinceMonth|CompetitionOpenSinceYear|Promo2|Promo2SinceWeek|Promo2SinceYear|PromoInterval|\n",
      "+-----+---------+----------+-------------------+-------------------------+------------------------+------+---------------+---------------+-------------+\n",
      "+-----+---------+----------+-------------------+-------------------------+------------------------+------+---------------+---------------+-------------+\n",
      "\n"
     ]
    }
   ],
   "source": [
    "stores_df.where( col( \"CompetitionOpenSinceYear\" ).isNull() ).show()"
   ]
  },
  {
   "cell_type": "code",
   "execution_count": 58,
   "metadata": {},
   "outputs": [
    {
     "name": "stdout",
     "output_type": "stream",
     "text": [
      "+-----+---------+----------+-------------------+-------------------------+------------------------+------+---------------+---------------+-------------+\n",
      "|Store|StoreType|Assortment|CompetitionDistance|CompetitionOpenSinceMonth|CompetitionOpenSinceYear|Promo2|Promo2SinceWeek|Promo2SinceYear|PromoInterval|\n",
      "+-----+---------+----------+-------------------+-------------------------+------------------------+------+---------------+---------------+-------------+\n",
      "+-----+---------+----------+-------------------+-------------------------+------------------------+------+---------------+---------------+-------------+\n",
      "\n"
     ]
    }
   ],
   "source": [
    "stores_df.where( col( \"CompetitionOpenSinceMonth\" ).isNull() ).show()"
   ]
  },
  {
   "cell_type": "code",
   "execution_count": 59,
   "metadata": {},
   "outputs": [],
   "source": [
    "from dateutil.relativedelta import relativedelta\n",
    "from datetime import datetime\n",
    "import math\n",
    "\n",
    "def diff_in_months( fromYear, fromMonth ):\n",
    "  if (fromYear == 0.0) or (fromMonth == 0.0):\n",
    "      return 0.0\n",
    "  else:\n",
    "      return ( 2015.0 - fromYear ) * 12.0 + ( 12.0 - fromMonth )"
   ]
  },
  {
   "cell_type": "code",
   "execution_count": 60,
   "metadata": {},
   "outputs": [
    {
     "data": {
      "text/plain": [
       "45.0"
      ]
     },
     "execution_count": 60,
     "metadata": {},
     "output_type": "execute_result"
    }
   ],
   "source": [
    "diff_in_months( 2012, 3 )"
   ]
  },
  {
   "cell_type": "code",
   "execution_count": 61,
   "metadata": {},
   "outputs": [],
   "source": [
    "from pyspark.sql.functions import udf, array"
   ]
  },
  {
   "cell_type": "code",
   "execution_count": 62,
   "metadata": {},
   "outputs": [],
   "source": [
    "comp_months_udf = udf( diff_in_months, FloatType() )"
   ]
  },
  {
   "cell_type": "code",
   "execution_count": 63,
   "metadata": {},
   "outputs": [
    {
     "name": "stdout",
     "output_type": "stream",
     "text": [
      "root\n",
      " |-- Store: integer (nullable = true)\n",
      " |-- StoreType: string (nullable = true)\n",
      " |-- Assortment: string (nullable = true)\n",
      " |-- CompetitionDistance: integer (nullable = true)\n",
      " |-- CompetitionOpenSinceMonth: float (nullable = false)\n",
      " |-- CompetitionOpenSinceYear: float (nullable = false)\n",
      " |-- Promo2: integer (nullable = true)\n",
      " |-- Promo2SinceWeek: integer (nullable = true)\n",
      " |-- Promo2SinceYear: integer (nullable = true)\n",
      " |-- PromoInterval: string (nullable = true)\n",
      "\n"
     ]
    }
   ],
   "source": [
    "stores_df.printSchema()"
   ]
  },
  {
   "cell_type": "code",
   "execution_count": 80,
   "metadata": {},
   "outputs": [
    {
     "data": {
      "text/plain": [
       "DataFrame[Store: int, StoreType: string, Assortment: string, CompetitionDistance: int, CompetitionOpenSinceMonth: float, CompetitionOpenSinceYear: float, Promo2: int, Promo2SinceWeek: int, Promo2SinceYear: int, PromoInterval: string, comp_months: float]"
      ]
     },
     "execution_count": 80,
     "metadata": {},
     "output_type": "execute_result"
    }
   ],
   "source": [
    "\n",
    "stores_df = stores_df.withColumn( \"comp_months\",\n",
    "                   comp_months_udf( stores_df.CompetitionOpenSinceYear,\n",
    "                                stores_df.CompetitionOpenSinceMonth ) )\n",
    "\n",
    "stores_df.cache()"
   ]
  },
  {
   "cell_type": "code",
   "execution_count": 81,
   "metadata": {},
   "outputs": [
    {
     "name": "stdout",
     "output_type": "stream",
     "text": [
      "+-----+---------+----------+-------------------+-------------------------+------------------------+------+---------------+---------------+---------------+-----------+\n",
      "|Store|StoreType|Assortment|CompetitionDistance|CompetitionOpenSinceMonth|CompetitionOpenSinceYear|Promo2|Promo2SinceWeek|Promo2SinceYear|  PromoInterval|comp_months|\n",
      "+-----+---------+----------+-------------------+-------------------------+------------------------+------+---------------+---------------+---------------+-----------+\n",
      "|    1|        c|         a|               1270|                      9.0|                  2008.0|     0|              0|              0|           null|       87.0|\n",
      "|    2|        a|         a|                570|                     11.0|                  2007.0|     1|             13|           2010|Jan,Apr,Jul,Oct|       97.0|\n",
      "+-----+---------+----------+-------------------+-------------------------+------------------------+------+---------------+---------------+---------------+-----------+\n",
      "only showing top 2 rows\n",
      "\n"
     ]
    }
   ],
   "source": [
    "stores_df.show(2)"
   ]
  },
  {
   "cell_type": "code",
   "execution_count": 82,
   "metadata": {},
   "outputs": [],
   "source": [
    "#Advanced OLAP functions\n",
    "#Creating multi-dimensional cubes for sales on customers, month, year, promo, weekday dimensions\n",
    "\n",
    "sales_cubes  = retail_df.cube( \"year\", \"month\", \"DayOfWeek\" ).avg(\"Sales\")"
   ]
  },
  {
   "cell_type": "code",
   "execution_count": 83,
   "metadata": {},
   "outputs": [],
   "source": [
    "sales_cubes = sales_cubes.sort( \"year\", \"month\", \"DayOfWeek\",\n",
    "                             ascending = [False, False, False] )"
   ]
  },
  {
   "cell_type": "code",
   "execution_count": 84,
   "metadata": {},
   "outputs": [
    {
     "data": {
      "text/plain": [
       "DataFrame[year: int, month: int, DayOfWeek: int, avg(Sales): double]"
      ]
     },
     "execution_count": 84,
     "metadata": {},
     "output_type": "execute_result"
    }
   ],
   "source": [
    "sales_cubes.cache()"
   ]
  },
  {
   "cell_type": "code",
   "execution_count": 85,
   "metadata": {},
   "outputs": [
    {
     "name": "stdout",
     "output_type": "stream",
     "text": [
      "+----+-----+---------+------------------+\n",
      "|year|month|DayOfWeek|        avg(Sales)|\n",
      "+----+-----+---------+------------------+\n",
      "|2015|    7|        7|253.49282511210762|\n",
      "|2015|    7|        6| 5557.611210762332|\n",
      "|2015|    7|        5| 7220.753542600897|\n",
      "|2015|    7|        4|7039.3309417040355|\n",
      "|2015|    7|        3| 7044.266188340807|\n",
      "|2015|    7|        2| 6996.633183856502|\n",
      "|2015|    7|        1| 8167.792152466368|\n",
      "|2015|    7|     null| 6142.705511355417|\n",
      "|2015|    6|        7| 234.2035874439462|\n",
      "|2015|    6|        6|5811.1556053811655|\n",
      "|2015|    6|        5| 7045.798878923767|\n",
      "|2015|    6|        4| 5491.128699551569|\n",
      "|2015|    6|        3| 6980.366367713004|\n",
      "|2015|    6|        2| 7929.010582959641|\n",
      "|2015|    6|        1| 8816.090762331838|\n",
      "|2015|    6|     null| 6199.203976083707|\n",
      "|2015|    5|        7| 232.5886995515695|\n",
      "|2015|    5|        6| 6590.219910313901|\n",
      "|2015|    5|        5|6143.7431390134525|\n",
      "|2015|    5|        4| 5390.822197309417|\n",
      "|2015|    5|        3| 7177.902242152466|\n",
      "|2015|    5|        2| 7212.469058295964|\n",
      "|2015|    5|        1| 6419.562331838565|\n",
      "|2015|    5|     null|  5472.12200202517|\n",
      "|2015|    4|        7|209.32780269058296|\n",
      "|2015|    4|        6| 6431.994170403587|\n",
      "|2015|    4|        5|4936.6813901345295|\n",
      "|2015|    4|        4| 7863.491121076233|\n",
      "|2015|    4|        3|7443.0651121076235|\n",
      "|2015|    4|        2|7265.6174887892375|\n",
      "|2015|    4|        1| 6399.615695067265|\n",
      "|2015|    4|     null| 5916.857578475337|\n",
      "|2015|    3|        7|203.92502242152466|\n",
      "|2015|    3|        6| 5923.364125560538|\n",
      "|2015|    3|        5| 6909.351793721973|\n",
      "|2015|    3|        4| 6519.332735426009|\n",
      "|2015|    3|        3| 6448.600448430493|\n",
      "|2015|    3|        2| 7477.686098654708|\n",
      "|2015|    3|        1| 8562.476412556054|\n",
      "|2015|    3|     null| 5949.130131636048|\n",
      "|2015|    2|        7|190.68183856502242|\n",
      "|2015|    2|        6| 6055.761659192825|\n",
      "|2015|    2|        5| 7068.506726457399|\n",
      "|2015|    2|        4| 6418.807847533632|\n",
      "|2015|    2|        3| 6416.215919282511|\n",
      "|2015|    2|        2| 6630.320403587444|\n",
      "|2015|    2|        1| 7191.781390134529|\n",
      "|2015|    2|     null| 5710.296540679052|\n",
      "|2015|    1|        7| 169.3645739910314|\n",
      "|2015|    1|        6| 5761.383139013453|\n",
      "|2015|    1|        5|7128.9840358744395|\n",
      "|2015|    1|        4| 5293.223497757847|\n",
      "|2015|    1|        3|6797.2262331838565|\n",
      "|2015|    1|        2|  6606.85067264574|\n",
      "|2015|    1|        1| 8280.866143497758|\n",
      "|2015|    1|     null| 5752.747866338782|\n",
      "|2015| null|        7|213.69503736920777|\n",
      "|2015| null|        6| 6029.252077727952|\n",
      "|2015| null|        5| 6655.121249819182|\n",
      "|2015| null|        4| 6330.986894257197|\n",
      "|2015| null|        3|6923.9300448430495|\n",
      "|2015| null|        2| 7196.034887892377|\n",
      "|2015| null|        1| 7757.710224215247|\n",
      "|2015| null|     null| 5878.245380319824|\n",
      "|2014|   12|        7|238.62513368983957|\n",
      "+----+-----+---------+------------------+\n",
      "only showing top 65 rows\n",
      "\n"
     ]
    }
   ],
   "source": [
    "sales_cubes.show(65)"
   ]
  },
  {
   "cell_type": "code",
   "execution_count": 86,
   "metadata": {},
   "outputs": [],
   "source": [
    "custs_rollups = retail_df.rollup( \"year\", \"month\", \"DayOfWeek\" ).sum(\"Customers\")"
   ]
  },
  {
   "cell_type": "code",
   "execution_count": 87,
   "metadata": {},
   "outputs": [],
   "source": [
    "custs_rollups = custs_rollups.sort( \"year\", \"month\", \"DayOfWeek\",\n",
    "                             ascending = [False, False, False] )"
   ]
  },
  {
   "cell_type": "code",
   "execution_count": 88,
   "metadata": {},
   "outputs": [
    {
     "data": {
      "text/plain": [
       "DataFrame[year: int, month: int, DayOfWeek: int, sum(Customers): bigint]"
      ]
     },
     "execution_count": 88,
     "metadata": {},
     "output_type": "execute_result"
    }
   ],
   "source": [
    "custs_rollups.cache()"
   ]
  },
  {
   "cell_type": "code",
   "execution_count": 89,
   "metadata": {},
   "outputs": [
    {
     "name": "stdout",
     "output_type": "stream",
     "text": [
      "+----+-----+---------+--------------+\n",
      "|year|month|DayOfWeek|sum(Customers)|\n",
      "+----+-----+---------+--------------+\n",
      "|2015|    7|        7|        188144|\n",
      "|2015|    7|        6|       2699949|\n",
      "|2015|    7|        5|       4229917|\n",
      "|2015|    7|        4|       4135350|\n",
      "|2015|    7|        3|       4084639|\n",
      "|2015|    7|        2|       3270527|\n",
      "|2015|    7|        1|       3645362|\n",
      "|2015|    7|     null|      22253888|\n",
      "|2015|    6|        7|        177292|\n",
      "|2015|    6|        6|       2817690|\n",
      "|2015|    6|        5|       3381020|\n",
      "|2015|    6|        4|       2737228|\n",
      "|2015|    6|        3|       3325603|\n",
      "|2015|    6|        2|       4438681|\n",
      "|2015|    6|        1|       4767615|\n",
      "|2015|    6|     null|      21645129|\n",
      "|2015|    5|        7|        217516|\n",
      "|2015|    5|        6|       3921955|\n",
      "|2015|    5|        5|       3663158|\n",
      "|2015|    5|        4|       2576555|\n",
      "|2015|    5|        3|       3432759|\n",
      "|2015|    5|        2|       3441435|\n",
      "|2015|    5|        1|       2940470|\n",
      "|2015|    5|     null|      20193848|\n",
      "|2015|    4|        7|        161366|\n",
      "|2015|    4|        6|       3120909|\n",
      "|2015|    4|        5|       2473489|\n",
      "|2015|    4|        4|       4618265|\n",
      "|2015|    4|        3|       4321340|\n",
      "|2015|    4|        2|       3477838|\n",
      "|2015|    4|        1|       2880784|\n",
      "|2015|    4|     null|      21053991|\n",
      "|2015|    3|        7|        193657|\n",
      "|2015|    3|        6|       2874050|\n",
      "|2015|    3|        5|       3343678|\n",
      "|2015|    3|        4|       3215772|\n",
      "|2015|    3|        3|       3161923|\n",
      "|2015|    3|        2|       4276840|\n",
      "|2015|    3|        1|       4743721|\n",
      "|2015|    3|     null|      21809641|\n",
      "|2015|    2|        7|        146914|\n",
      "|2015|    2|        6|       2954720|\n",
      "|2015|    2|        5|       3405752|\n",
      "|2015|    2|        4|       3185048|\n",
      "|2015|    2|        3|       3169238|\n",
      "|2015|    2|        2|       3235330|\n",
      "|2015|    2|        1|       3384379|\n",
      "|2015|    2|     null|      19481381|\n",
      "|2015|    1|        7|        131477|\n",
      "|2015|    1|        6|       3489789|\n",
      "|2015|    1|        5|       4222693|\n",
      "|2015|    1|        4|       3163920|\n",
      "|2015|    1|        3|       3211087|\n",
      "|2015|    1|        2|       3148225|\n",
      "|2015|    1|        1|       3743290|\n",
      "|2015|    1|     null|      21110481|\n",
      "|2015| null|     null|     147548359|\n",
      "|2014|   12|        7|        146729|\n",
      "|2014|   12|        6|       2926291|\n",
      "|2014|   12|        5|       2639423|\n",
      "+----+-----+---------+--------------+\n",
      "only showing top 60 rows\n",
      "\n"
     ]
    }
   ],
   "source": [
    "custs_rollups.show(60)"
   ]
  },
  {
   "cell_type": "code",
   "execution_count": 90,
   "metadata": {},
   "outputs": [
    {
     "name": "stdout",
     "output_type": "stream",
     "text": [
      "root\n",
      " |-- Store: integer (nullable = true)\n",
      " |-- StoreType: string (nullable = true)\n",
      " |-- Assortment: string (nullable = true)\n",
      " |-- CompetitionDistance: integer (nullable = true)\n",
      " |-- CompetitionOpenSinceMonth: float (nullable = false)\n",
      " |-- CompetitionOpenSinceYear: float (nullable = false)\n",
      " |-- Promo2: integer (nullable = true)\n",
      " |-- Promo2SinceWeek: integer (nullable = true)\n",
      " |-- Promo2SinceYear: integer (nullable = true)\n",
      " |-- PromoInterval: string (nullable = true)\n",
      " |-- comp_months: float (nullable = true)\n",
      "\n"
     ]
    }
   ],
   "source": [
    "stores_df.printSchema()"
   ]
  },
  {
   "cell_type": "code",
   "execution_count": 91,
   "metadata": {},
   "outputs": [
    {
     "name": "stdout",
     "output_type": "stream",
     "text": [
      "+-----+---------+----------+-------------------+-----------+\n",
      "|Store|StoreType|Assortment|CompetitionDistance|comp_months|\n",
      "+-----+---------+----------+-------------------+-----------+\n",
      "|    1|        c|         a|               1270|       87.0|\n",
      "|    2|        a|         a|                570|       97.0|\n",
      "|    3|        a|         a|              14130|      108.0|\n",
      "|    4|        c|         c|                620|       75.0|\n",
      "|    5|        a|         a|              29910|        8.0|\n",
      "|    6|        a|         a|                310|       24.0|\n",
      "|    7|        a|         c|              24000|       32.0|\n",
      "|    8|        a|         a|               7520|       14.0|\n",
      "|    9|        a|         c|               2030|      184.0|\n",
      "|   10|        a|         a|               3160|       75.0|\n",
      "+-----+---------+----------+-------------------+-----------+\n",
      "only showing top 10 rows\n",
      "\n"
     ]
    }
   ],
   "source": [
    "#Joining two dataframes\n",
    "stores_limited_df = stores_df.select( 'Store',\n",
    "                                    'StoreType',\n",
    "                                    'Assortment',\n",
    "                                    'CompetitionDistance',\n",
    "                                    'comp_months')\n",
    "\n",
    "stores_limited_df.show(10)"
   ]
  },
  {
   "cell_type": "code",
   "execution_count": 92,
   "metadata": {},
   "outputs": [
    {
     "name": "stdout",
     "output_type": "stream",
     "text": [
      "+-----+----------+--------------+----------------+\n",
      "|Store|sum(Sales)|sum(Customers)|avg_purchase_val|\n",
      "+-----+----------+--------------+----------------+\n",
      "|  148|   6772949|        642470|           10.54|\n",
      "|  463|   4747749|        755184|            6.29|\n",
      "|  471|   4422266|        367107|           12.05|\n",
      "|  496|   6059458|        650918|            9.31|\n",
      "|  833|   4293342|        394316|           10.89|\n",
      "| 1088|   3960984|        377930|           10.48|\n",
      "|  243|   4407146|        594010|            7.42|\n",
      "|  392|   5670675|        559386|           10.14|\n",
      "|  540|   3513672|        243396|           14.44|\n",
      "|  623|   5473895|        639137|            8.56|\n",
      "+-----+----------+--------------+----------------+\n",
      "only showing top 10 rows\n",
      "\n"
     ]
    }
   ],
   "source": [
    "sales_by_stores_custs.show(10)"
   ]
  },
  {
   "cell_type": "code",
   "execution_count": 93,
   "metadata": {},
   "outputs": [],
   "source": [
    "all_stores_df = stores_limited_df.join( sales_by_stores_custs,\n",
    "                                     on = [\"Store\"], how = 'inner' )"
   ]
  },
  {
   "cell_type": "code",
   "execution_count": 94,
   "metadata": {},
   "outputs": [
    {
     "name": "stdout",
     "output_type": "stream",
     "text": [
      "+-----+---------+----------+-------------------+-----------+----------+--------------+----------------+\n",
      "|Store|StoreType|Assortment|CompetitionDistance|comp_months|sum(Sales)|sum(Customers)|avg_purchase_val|\n",
      "+-----+---------+----------+-------------------+-----------+----------+--------------+----------------+\n",
      "|  148|        a|         a|               2090|       84.0|   6772949|        642470|           10.54|\n",
      "|  463|        a|         a|               4160|        0.0|   4747749|        755184|            6.29|\n",
      "|  471|        d|         a|               5300|        0.0|   4422266|        367107|           12.05|\n",
      "|  496|        d|         c|               2780|        6.0|   6059458|        650918|            9.31|\n",
      "|  833|        d|         c|               3290|      192.0|   4293342|        394316|           10.89|\n",
      "| 1088|        a|         a|               4300|       81.0|   3960984|        377930|           10.48|\n",
      "|  243|        a|         a|                310|        0.0|   4407146|        594010|            7.42|\n",
      "|  392|        a|         a|               2120|        0.0|   5670675|        559386|           10.14|\n",
      "|  540|        d|         c|                810|        0.0|   3513672|        243396|           14.44|\n",
      "|  623|        a|         a|               4080|       57.0|   5473895|        639137|            8.56|\n",
      "+-----+---------+----------+-------------------+-----------+----------+--------------+----------------+\n",
      "only showing top 10 rows\n",
      "\n"
     ]
    }
   ],
   "source": [
    "all_stores_df.show( 10 )"
   ]
  },
  {
   "cell_type": "code",
   "execution_count": 95,
   "metadata": {},
   "outputs": [],
   "source": [
    "#Statistical Functions\n",
    "all_stores_stats = all_stores_df.describe()"
   ]
  },
  {
   "cell_type": "code",
   "execution_count": 96,
   "metadata": {},
   "outputs": [
    {
     "name": "stdout",
     "output_type": "stream",
     "text": [
      "+-------+-----------------+---------+----------+-------------------+-----------------+------------------+-----------------+------------------+\n",
      "|summary|            Store|StoreType|Assortment|CompetitionDistance|      comp_months|        sum(Sales)|   sum(Customers)|  avg_purchase_val|\n",
      "+-------+-----------------+---------+----------+-------------------+-----------------+------------------+-----------------+------------------+\n",
      "|  count|             1115|     1115|      1115|               1115|             1115|              1115|             1115|              1115|\n",
      "|   mean|            558.0|     null|      null|  5390.358744394619|55.11210762331839| 5267426.567713005|577615.9237668162| 9.643659192825114|\n",
      "| stddev|322.0170802923348|     null|      null| 7657.9737053313265|71.94205843930182|1951304.4839653836|304654.5331405179|1.9869552301495716|\n",
      "|    min|                1|        a|         a|                  0|              0.0|           2114322|           187583|              3.51|\n",
      "|    max|             1115|        d|         c|              75860|           1391.0|          19516842|          3206058|             16.16|\n",
      "+-------+-----------------+---------+----------+-------------------+-----------------+------------------+-----------------+------------------+\n",
      "\n"
     ]
    }
   ],
   "source": [
    "all_stores_stats.show()"
   ]
  },
  {
   "cell_type": "code",
   "execution_count": 97,
   "metadata": {},
   "outputs": [],
   "source": [
    "#Convert the data types of the columns\n",
    "all_stores_df = all_stores_df.withColumn(\n",
    "  \"CompetitionDistance\",\n",
    "  all_stores_df[\"CompetitionDistance\"].cast( 'int' ) )"
   ]
  },
  {
   "cell_type": "code",
   "execution_count": 99,
   "metadata": {},
   "outputs": [
    {
     "name": "stdout",
     "output_type": "stream",
     "text": [
      "root\n",
      " |-- Store: integer (nullable = true)\n",
      " |-- StoreType: string (nullable = true)\n",
      " |-- Assortment: string (nullable = true)\n",
      " |-- CompetitionDistance: integer (nullable = true)\n",
      " |-- comp_months: float (nullable = true)\n",
      " |-- sum(Sales): long (nullable = true)\n",
      " |-- sum(Customers): long (nullable = true)\n",
      " |-- avg_purchase_val: double (nullable = true)\n",
      "\n"
     ]
    }
   ],
   "source": [
    "\n",
    "all_stores_df.printSchema()"
   ]
  },
  {
   "cell_type": "code",
   "execution_count": 122,
   "metadata": {},
   "outputs": [
    {
     "name": "stdout",
     "output_type": "stream",
     "text": [
      "+-------+-----------------+---------+----------+-------------------+-----------------+------------------+-----------------+------------------+\n",
      "|summary|            Store|StoreType|Assortment|CompetitionDistance|      comp_months|        sum(Sales)|   sum(Customers)|  avg_purchase_val|\n",
      "+-------+-----------------+---------+----------+-------------------+-----------------+------------------+-----------------+------------------+\n",
      "|  count|             1115|     1115|      1115|               1115|             1115|              1115|             1115|              1115|\n",
      "|   mean|            558.0|     null|      null|  5390.358744394619|55.11210762331839| 5267426.567713005|577615.9237668162| 9.643659192825114|\n",
      "| stddev|322.0170802923348|     null|      null| 7657.9737053313265|71.94205843930182|1951304.4839653836|304654.5331405179|1.9869552301495716|\n",
      "|    min|                1|        a|         a|                  0|              0.0|           2114322|           187583|              3.51|\n",
      "|    max|             1115|        d|         c|              75860|           1391.0|          19516842|          3206058|             16.16|\n",
      "+-------+-----------------+---------+----------+-------------------+-----------------+------------------+-----------------+------------------+\n",
      "\n"
     ]
    }
   ],
   "source": [
    "all_stores_stats  = all_stores_df.describe()\n",
    "all_stores_stats.show()"
   ]
  },
  {
   "cell_type": "markdown",
   "metadata": {},
   "source": [
    "Some data points missing in CompetitionDistance column. Only 1112 out of 1115 are available."
   ]
  },
  {
   "cell_type": "code",
   "execution_count": 101,
   "metadata": {},
   "outputs": [
    {
     "name": "stdout",
     "output_type": "stream",
     "text": [
      "+-------+-------------------+------------------+\n",
      "|summary|CompetitionDistance|  avg_purchase_val|\n",
      "+-------+-------------------+------------------+\n",
      "|  count|               1115|              1115|\n",
      "|   mean|  5390.358744394619| 9.643659192825114|\n",
      "| stddev| 7657.9737053313265|1.9869552301495716|\n",
      "|    min|                  0|              3.51|\n",
      "|    max|              75860|             16.16|\n",
      "+-------+-------------------+------------------+\n",
      "\n"
     ]
    }
   ],
   "source": [
    "#Describe on a subset of columns\n",
    "all_stores_df.describe( \"CompetitionDistance\", \"avg_purchase_val\" ).show()"
   ]
  },
  {
   "cell_type": "code",
   "execution_count": 102,
   "metadata": {},
   "outputs": [
    {
     "data": {
      "text/plain": [
       "0.23007011949360368"
      ]
     },
     "execution_count": 102,
     "metadata": {},
     "output_type": "execute_result"
    }
   ],
   "source": [
    "#Finding correlation between variables\n",
    "all_stores_df.stat.corr( 'CompetitionDistance', 'avg_purchase_val' )"
   ]
  },
  {
   "cell_type": "markdown",
   "metadata": {},
   "source": [
    "Surprisingly not very highly correlated. In fact, it is positively correlated, which sound unintuitive. This may be because the stores with low CompetitionDistance are located in crowded places. And Stores with high competition distance are placed in very low population areas. This explains why the sales are low, even when there is no competition."
   ]
  },
  {
   "cell_type": "code",
   "execution_count": 103,
   "metadata": {},
   "outputs": [
    {
     "data": {
      "text/plain": [
       "0.8542650646315252"
      ]
     },
     "execution_count": 103,
     "metadata": {},
     "output_type": "execute_result"
    }
   ],
   "source": [
    "all_stores_df.stat.corr( 'sum(Sales)', 'sum(Customers)' )"
   ]
  },
  {
   "cell_type": "markdown",
   "metadata": {},
   "source": [
    "This is expected to be highly correlated. Sales are higher when when there are higher footfalls."
   ]
  },
  {
   "cell_type": "code",
   "execution_count": 104,
   "metadata": {},
   "outputs": [],
   "source": [
    "#Running SQL Queries\n",
    "#Registering sales data as a table\n",
    "retail_df.registerTempTable( \"retail\" )"
   ]
  },
  {
   "cell_type": "code",
   "execution_count": 106,
   "metadata": {},
   "outputs": [
    {
     "data": {
      "text/plain": [
       "DataFrame[Store: int, avg_sales: double, avg_custs: double]"
      ]
     },
     "execution_count": 106,
     "metadata": {},
     "output_type": "execute_result"
    }
   ],
   "source": [
    "avg_sales_custs = spark.sql( \"\"\"select Store, avg(Sales) as avg_sales,                 \n",
    "                                 avg(Customers) as avg_custs from retail group by Store\"\"\" )\n",
    "avg_sales_custs.cache()"
   ]
  },
  {
   "cell_type": "code",
   "execution_count": 107,
   "metadata": {},
   "outputs": [
    {
     "name": "stdout",
     "output_type": "stream",
     "text": [
      "+-----+------------------+------------------+\n",
      "|Store|         avg_sales|         avg_custs|\n",
      "+-----+------------------+------------------+\n",
      "|  148| 7189.967091295117| 682.0276008492569|\n",
      "|  463| 5040.073248407643| 801.6815286624204|\n",
      "|  471|  5834.12401055409|484.31002638522426|\n",
      "|  496| 6432.545647558386|  690.995753715499|\n",
      "|  833|4557.6878980891715| 418.5944798301486|\n",
      "| 1088| 4204.866242038216| 401.1995753715499|\n",
      "|  243| 5814.176781002639| 783.6543535620053|\n",
      "|  392| 6019.824840764331|  593.828025477707|\n",
      "|  540| 4635.451187335092| 321.1029023746702|\n",
      "|  623| 5810.928874734607| 678.4893842887474|\n",
      "+-----+------------------+------------------+\n",
      "only showing top 10 rows\n",
      "\n"
     ]
    }
   ],
   "source": [
    "avg_sales_custs.show(10)"
   ]
  },
  {
   "cell_type": "code",
   "execution_count": 108,
   "metadata": {},
   "outputs": [
    {
     "name": "stdout",
     "output_type": "stream",
     "text": [
      "+-------------+---------+-------+\n",
      "|     col_name|data_type|comment|\n",
      "+-------------+---------+-------+\n",
      "|        Store|      int|   null|\n",
      "|    DayOfWeek|      int|   null|\n",
      "|         Date|timestamp|   null|\n",
      "|        Sales|      int|   null|\n",
      "|    Customers|      int|   null|\n",
      "|         Open|      int|   null|\n",
      "|        Promo|      int|   null|\n",
      "| StateHoliday|   string|   null|\n",
      "|SchoolHoliday|      int|   null|\n",
      "|        month|      int|   null|\n",
      "|         year|      int|   null|\n",
      "+-------------+---------+-------+\n",
      "\n"
     ]
    }
   ],
   "source": [
    "#Creating Cubes and Rollups\n",
    "spark.sql( \"describe retail\").show()"
   ]
  },
  {
   "cell_type": "code",
   "execution_count": 109,
   "metadata": {},
   "outputs": [],
   "source": [
    "sales_rollups = spark.sql( '''select year, month, Store, sum(Sales) as total_sales\n",
    "            from retail group by year, month, Store with rollup''')"
   ]
  },
  {
   "cell_type": "code",
   "execution_count": 110,
   "metadata": {},
   "outputs": [
    {
     "data": {
      "text/plain": [
       "DataFrame[year: int, month: int, Store: int, total_sales: bigint]"
      ]
     },
     "execution_count": 110,
     "metadata": {},
     "output_type": "execute_result"
    }
   ],
   "source": [
    "sales_rollups.cache()"
   ]
  },
  {
   "cell_type": "code",
   "execution_count": 111,
   "metadata": {},
   "outputs": [
    {
     "name": "stdout",
     "output_type": "stream",
     "text": [
      "+----+-----+-----+-----------+\n",
      "|year|month|Store|total_sales|\n",
      "+----+-----+-----+-----------+\n",
      "|2015|    7|  126|     143960|\n",
      "|2015|    7|  182|     151776|\n",
      "|2015|    7|  362|     255891|\n",
      "|2015|    7|  484|     214570|\n",
      "|2015|    7|  487|     198074|\n",
      "|2015|    7| 1061|     231236|\n",
      "|2015|    6|    1|     110011|\n",
      "|2015|    6|  161|     198112|\n",
      "|2015|    6|  903|     294727|\n",
      "|2015|    4|    4|     248088|\n",
      "+----+-----+-----+-----------+\n",
      "only showing top 10 rows\n",
      "\n"
     ]
    }
   ],
   "source": [
    "sales_rollups.show(10)"
   ]
  },
  {
   "cell_type": "code",
   "execution_count": 112,
   "metadata": {},
   "outputs": [],
   "source": [
    "sales_rollups.dropna().registerTempTable( \"sales_rollups\" )"
   ]
  },
  {
   "cell_type": "code",
   "execution_count": 113,
   "metadata": {},
   "outputs": [],
   "source": [
    "#Top 3 Stores for each month by sales revenue contribution\n",
    "top3_query = \"\"\"SELECT\n",
    "  year,\n",
    "  month,\n",
    "  Store,\n",
    "  total_sales,\n",
    "  rank\n",
    "FROM (\n",
    "  SELECT\n",
    "    Store,\n",
    "    year,\n",
    "    month,\n",
    "    total_sales,\n",
    "    rank() OVER (PARTITION BY year, month ORDER BY total_sales DESC) as rank\n",
    "  FROM sales_rollups) tmp\n",
    "WHERE\n",
    "  rank <= 3 ORDER BY year, month, rank\"\"\""
   ]
  },
  {
   "cell_type": "code",
   "execution_count": 115,
   "metadata": {},
   "outputs": [
    {
     "data": {
      "text/plain": [
       "DataFrame[year: int, month: int, Store: int, total_sales: bigint, rank: int]"
      ]
     },
     "execution_count": 115,
     "metadata": {},
     "output_type": "execute_result"
    }
   ],
   "source": [
    "top3_store_by_month = spark.sql( top3_query )\n",
    "top3_store_by_month.cache()"
   ]
  },
  {
   "cell_type": "code",
   "execution_count": 116,
   "metadata": {},
   "outputs": [
    {
     "name": "stdout",
     "output_type": "stream",
     "text": [
      "+----+-----+-----+-----------+----+\n",
      "|year|month|Store|total_sales|rank|\n",
      "+----+-----+-----+-----------+----+\n",
      "|2013|    1|  817|     616461|   1|\n",
      "|2013|    1|  262|     566482|   2|\n",
      "|2013|    1|  562|     527869|   3|\n",
      "|2013|    2|  817|     561454|   1|\n",
      "|2013|    2|  262|     549174|   2|\n",
      "|2013|    2|  562|     488061|   3|\n",
      "|2013|    3|  262|     673085|   1|\n",
      "|2013|    3|  817|     615420|   2|\n",
      "|2013|    3|  562|     572658|   3|\n",
      "|2013|    4|  262|     610222|   1|\n",
      "|2013|    4|  817|     606697|   2|\n",
      "|2013|    4|  562|     528838|   3|\n",
      "|2013|    5|  262|     711428|   1|\n",
      "|2013|    5|  817|     617836|   2|\n",
      "|2013|    5|  562|     564743|   3|\n",
      "|2013|    6|  262|     630094|   1|\n",
      "|2013|    6|  817|     609556|   2|\n",
      "|2013|    6|  562|     541954|   3|\n",
      "|2013|    7|  262|     615851|   1|\n",
      "|2013|    7|  817|     609614|   2|\n",
      "|2013|    7| 1114|     548603|   3|\n",
      "|2013|    8|  262|     628556|   1|\n",
      "|2013|    8|  817|     587789|   2|\n",
      "|2013|    8| 1114|     559259|   3|\n",
      "|2013|    9|  262|     600554|   1|\n",
      "|2013|    9|  817|     507966|   2|\n",
      "|2013|    9|  562|     505259|   3|\n",
      "|2013|   10|  262|     624051|   1|\n",
      "|2013|   10|  817|     556556|   2|\n",
      "|2013|   10|  562|     552199|   3|\n",
      "+----+-----+-----+-----------+----+\n",
      "only showing top 30 rows\n",
      "\n"
     ]
    }
   ],
   "source": [
    "top3_store_by_month.show( 30 )"
   ]
  },
  {
   "cell_type": "code",
   "execution_count": 117,
   "metadata": {},
   "outputs": [],
   "source": [
    "#Writing dataframes using Parquet Format\n",
    "retail_df.write.parquet( \"retail.parquet\" )"
   ]
  },
  {
   "cell_type": "code",
   "execution_count": 118,
   "metadata": {},
   "outputs": [
    {
     "name": "stdout",
     "output_type": "stream",
     "text": [
      "+-----+---------+----------+-------------------+-----------+\n",
      "|Store|StoreType|Assortment|CompetitionDistance|comp_months|\n",
      "+-----+---------+----------+-------------------+-----------+\n",
      "|    1|        c|         a|               1270|       87.0|\n",
      "|    2|        a|         a|                570|       97.0|\n",
      "|    3|        a|         a|              14130|      108.0|\n",
      "|    4|        c|         c|                620|       75.0|\n",
      "|    5|        a|         a|              29910|        8.0|\n",
      "+-----+---------+----------+-------------------+-----------+\n",
      "only showing top 5 rows\n",
      "\n"
     ]
    }
   ],
   "source": [
    "stores_limited_df.show( 5 )"
   ]
  },
  {
   "cell_type": "code",
   "execution_count": 119,
   "metadata": {},
   "outputs": [],
   "source": [
    "stores_limited_df.write.parquet( \"stores_limited.parquet\" )"
   ]
  },
  {
   "cell_type": "markdown",
   "metadata": {},
   "source": [
    "# Model Building"
   ]
  },
  {
   "cell_type": "markdown",
   "metadata": {},
   "source": [
    "### Model Building with out feature engineering"
   ]
  },
  {
   "cell_type": "code",
   "execution_count": 120,
   "metadata": {},
   "outputs": [
    {
     "name": "stdout",
     "output_type": "stream",
     "text": [
      "root\n",
      " |-- Store: integer (nullable = true)\n",
      " |-- StoreType: string (nullable = true)\n",
      " |-- Assortment: string (nullable = true)\n",
      " |-- CompetitionDistance: integer (nullable = true)\n",
      " |-- CompetitionOpenSinceMonth: float (nullable = false)\n",
      " |-- CompetitionOpenSinceYear: float (nullable = false)\n",
      " |-- Promo2: integer (nullable = true)\n",
      " |-- Promo2SinceWeek: integer (nullable = true)\n",
      " |-- Promo2SinceYear: integer (nullable = true)\n",
      " |-- PromoInterval: string (nullable = true)\n",
      " |-- comp_months: float (nullable = true)\n",
      "\n"
     ]
    }
   ],
   "source": [
    "stores_df.printSchema()"
   ]
  },
  {
   "cell_type": "code",
   "execution_count": 121,
   "metadata": {},
   "outputs": [
    {
     "name": "stdout",
     "output_type": "stream",
     "text": [
      "root\n",
      " |-- Store: integer (nullable = true)\n",
      " |-- DayOfWeek: integer (nullable = true)\n",
      " |-- Date: timestamp (nullable = true)\n",
      " |-- Sales: integer (nullable = true)\n",
      " |-- Customers: integer (nullable = true)\n",
      " |-- Open: integer (nullable = true)\n",
      " |-- Promo: integer (nullable = true)\n",
      " |-- StateHoliday: string (nullable = true)\n",
      " |-- SchoolHoliday: integer (nullable = true)\n",
      " |-- month: integer (nullable = true)\n",
      " |-- year: integer (nullable = true)\n",
      "\n"
     ]
    }
   ],
   "source": [
    "retail_df.printSchema()"
   ]
  },
  {
   "cell_type": "markdown",
   "metadata": {},
   "source": [
    "#### Selecting columns to predict store sales\n",
    "To predict sales of stores we can use the following features to make prediction. Customers, Open and Date columns will not be used. Customers column data will not be availble while making predictions and Date may create overfitting problems. Open will be always 1 for the day for which we will make predictions in future. For Open = 0, we know the sales will be 0, as the store is closed."
   ]
  },
  {
   "cell_type": "code",
   "execution_count": 123,
   "metadata": {},
   "outputs": [],
   "source": [
    "store_sales_df = retail_df.select('Store',\n",
    "'DayOfWeek',\n",
    "'Promo',\n",
    "'StateHoliday',\n",
    "'SchoolHoliday',\n",
    "'month',\n",
    "'year',\n",
    "'Sales',\n",
    ")"
   ]
  },
  {
   "cell_type": "markdown",
   "metadata": {},
   "source": [
    "We can add more featurs about the stores from stores dataframe. For example, store type, assortment type, competition distances and how long the competitions have been there etc."
   ]
  },
  {
   "cell_type": "code",
   "execution_count": 124,
   "metadata": {},
   "outputs": [],
   "source": [
    "#Join store sales and stores dataframe \n",
    "#Adding store variables to the sales data.\n",
    "store_sales_df = store_sales_df.join( stores_df, on = \"Store\", how = \"inner\" )"
   ]
  },
  {
   "cell_type": "code",
   "execution_count": 125,
   "metadata": {},
   "outputs": [
    {
     "data": {
      "text/plain": [
       "DataFrame[Store: int, DayOfWeek: int, Promo: int, StateHoliday: string, SchoolHoliday: int, month: int, year: int, Sales: int, StoreType: string, Assortment: string, CompetitionDistance: int, CompetitionOpenSinceMonth: float, CompetitionOpenSinceYear: float, Promo2: int, Promo2SinceWeek: int, Promo2SinceYear: int, PromoInterval: string, comp_months: float]"
      ]
     },
     "execution_count": 125,
     "metadata": {},
     "output_type": "execute_result"
    }
   ],
   "source": [
    "store_sales_df.cache()"
   ]
  },
  {
   "cell_type": "code",
   "execution_count": 126,
   "metadata": {},
   "outputs": [
    {
     "name": "stdout",
     "output_type": "stream",
     "text": [
      "+-----+---------+-----+------------+-------------+-----+----+-----+---------+----------+-------------------+-------------------------+------------------------+------+---------------+---------------+---------------+-----------+\n",
      "|Store|DayOfWeek|Promo|StateHoliday|SchoolHoliday|month|year|Sales|StoreType|Assortment|CompetitionDistance|CompetitionOpenSinceMonth|CompetitionOpenSinceYear|Promo2|Promo2SinceWeek|Promo2SinceYear|  PromoInterval|comp_months|\n",
      "+-----+---------+-----+------------+-------------+-----+----+-----+---------+----------+-------------------+-------------------------+------------------------+------+---------------+---------------+---------------+-----------+\n",
      "|    1|        5|    1|           0|            1|    7|2015| 5263|        c|         a|               1270|                      9.0|                  2008.0|     0|              0|              0|           null|       87.0|\n",
      "|    2|        5|    1|           0|            1|    7|2015| 6064|        a|         a|                570|                     11.0|                  2007.0|     1|             13|           2010|Jan,Apr,Jul,Oct|       97.0|\n",
      "|    3|        5|    1|           0|            1|    7|2015| 8314|        a|         a|              14130|                     12.0|                  2006.0|     1|             14|           2011|Jan,Apr,Jul,Oct|      108.0|\n",
      "|    4|        5|    1|           0|            1|    7|2015|13995|        c|         c|                620|                      9.0|                  2009.0|     0|              0|              0|           null|       75.0|\n",
      "|    5|        5|    1|           0|            1|    7|2015| 4822|        a|         a|              29910|                      4.0|                  2015.0|     0|              0|              0|           null|        8.0|\n",
      "+-----+---------+-----+------------+-------------+-----+----+-----+---------+----------+-------------------+-------------------------+------------------------+------+---------------+---------------+---------------+-----------+\n",
      "only showing top 5 rows\n",
      "\n"
     ]
    }
   ],
   "source": [
    "store_sales_df.show(5)"
   ]
  },
  {
   "cell_type": "code",
   "execution_count": 128,
   "metadata": {},
   "outputs": [
    {
     "data": {
      "text/plain": [
       "['Store',\n",
       " 'DayOfWeek',\n",
       " 'Promo',\n",
       " 'StateHoliday',\n",
       " 'SchoolHoliday',\n",
       " 'month',\n",
       " 'year',\n",
       " 'Sales',\n",
       " 'StoreType',\n",
       " 'Assortment',\n",
       " 'CompetitionDistance',\n",
       " 'CompetitionOpenSinceMonth',\n",
       " 'CompetitionOpenSinceYear',\n",
       " 'Promo2',\n",
       " 'Promo2SinceWeek',\n",
       " 'Promo2SinceYear',\n",
       " 'PromoInterval',\n",
       " 'comp_months']"
      ]
     },
     "execution_count": 128,
     "metadata": {},
     "output_type": "execute_result"
    }
   ],
   "source": [
    "store_sales_df.columns"
   ]
  },
  {
   "cell_type": "markdown",
   "metadata": {},
   "source": [
    "Remove rows with 0 observations\n",
    "- There are days with zero sales. These are the days when the stores are closed. So, we need not take these data for model building. So, we can remove all entries with zero observations."
   ]
  },
  {
   "cell_type": "code",
   "execution_count": 129,
   "metadata": {},
   "outputs": [],
   "source": [
    "store_sales_df  = store_sales_df.where( store_sales_df.Sales > 0 )"
   ]
  },
  {
   "cell_type": "code",
   "execution_count": 130,
   "metadata": {},
   "outputs": [
    {
     "data": {
      "text/plain": [
       "DataFrame[Store: int, DayOfWeek: int, Promo: int, StateHoliday: string, SchoolHoliday: int, month: int, year: int, Sales: int, StoreType: string, Assortment: string, CompetitionDistance: int, CompetitionOpenSinceMonth: float, CompetitionOpenSinceYear: float, Promo2: int, Promo2SinceWeek: int, Promo2SinceYear: int, PromoInterval: string, comp_months: float]"
      ]
     },
     "execution_count": 130,
     "metadata": {},
     "output_type": "execute_result"
    }
   ],
   "source": [
    "# Fill all null values with zero.\n",
    "store_sales_df.fillna( 0 )"
   ]
  },
  {
   "cell_type": "code",
   "execution_count": 131,
   "metadata": {},
   "outputs": [],
   "source": [
    "store_sales_df = store_sales_df.na.drop( how = 'any' )"
   ]
  },
  {
   "cell_type": "code",
   "execution_count": 132,
   "metadata": {},
   "outputs": [],
   "source": [
    "#Which are categorical and which are continuous features?\n",
    "cat_features = ['DayOfWeek',\n",
    "              'Promo',\n",
    "              'StateHoliday',\n",
    "              'SchoolHoliday',\n",
    "              'month',\n",
    "              'year',\n",
    "              'StoreType',\n",
    "              'Assortment']"
   ]
  },
  {
   "cell_type": "code",
   "execution_count": 133,
   "metadata": {},
   "outputs": [],
   "source": [
    "continuous_features = ['CompetitionDistance', 'comp_months']"
   ]
  },
  {
   "cell_type": "code",
   "execution_count": 134,
   "metadata": {},
   "outputs": [],
   "source": [
    "#Function to encode categorical features\n",
    "from pyspark.ml.feature import OneHotEncoder, StringIndexer, VectorAssembler, PolynomialExpansion, VectorIndexer"
   ]
  },
  {
   "cell_type": "code",
   "execution_count": 135,
   "metadata": {},
   "outputs": [],
   "source": [
    "def create_category_vars( dataset, field_name ):\n",
    "    idx_col = field_name + \"Index\"\n",
    "    col_vec = field_name + \"Vec\"\n",
    "\n",
    "    month_stringIndexer = StringIndexer( inputCol=field_name, outputCol=idx_col )\n",
    "\n",
    "    month_model = month_stringIndexer.fit( dataset )\n",
    "    month_indexed = month_model.transform( dataset )\n",
    "\n",
    "    month_encoder = OneHotEncoder( dropLast=True,inputCol=idx_col,outputCol= col_vec )\n",
    "\n",
    "    return month_encoder.transform( month_indexed )"
   ]
  },
  {
   "cell_type": "code",
   "execution_count": 137,
   "metadata": {},
   "outputs": [],
   "source": [
    "for  col in  cat_features:\n",
    "    store_sales_df = create_category_vars( store_sales_df, col )\n",
    "    store_sales_df.cache()"
   ]
  },
  {
   "cell_type": "code",
   "execution_count": 138,
   "metadata": {},
   "outputs": [
    {
     "data": {
      "text/plain": [
       "['Store',\n",
       " 'DayOfWeek',\n",
       " 'Promo',\n",
       " 'StateHoliday',\n",
       " 'SchoolHoliday',\n",
       " 'month',\n",
       " 'year',\n",
       " 'Sales',\n",
       " 'StoreType',\n",
       " 'Assortment',\n",
       " 'CompetitionDistance',\n",
       " 'CompetitionOpenSinceMonth',\n",
       " 'CompetitionOpenSinceYear',\n",
       " 'Promo2',\n",
       " 'Promo2SinceWeek',\n",
       " 'Promo2SinceYear',\n",
       " 'PromoInterval',\n",
       " 'comp_months',\n",
       " 'DayOfWeekIndex',\n",
       " 'DayOfWeekVec',\n",
       " 'PromoIndex',\n",
       " 'PromoVec',\n",
       " 'StateHolidayIndex',\n",
       " 'StateHolidayVec',\n",
       " 'SchoolHolidayIndex',\n",
       " 'SchoolHolidayVec',\n",
       " 'monthIndex',\n",
       " 'monthVec',\n",
       " 'yearIndex',\n",
       " 'yearVec',\n",
       " 'StoreTypeIndex',\n",
       " 'StoreTypeVec',\n",
       " 'AssortmentIndex',\n",
       " 'AssortmentVec']"
      ]
     },
     "execution_count": 138,
     "metadata": {},
     "output_type": "execute_result"
    }
   ],
   "source": [
    "store_sales_df.columns"
   ]
  },
  {
   "cell_type": "code",
   "execution_count": 139,
   "metadata": {},
   "outputs": [
    {
     "name": "stdout",
     "output_type": "stream",
     "text": [
      "+-----+---------+-----+------------+-------------+-----+----+-----+---------+----------+-------------------+-------------------------+------------------------+------+---------------+---------------+---------------+-----------+--------------+-------------+----------+---------+-----------------+---------------+------------------+----------------+----------+--------------+---------+---------+--------------+-------------+---------------+-------------+\n",
      "|Store|DayOfWeek|Promo|StateHoliday|SchoolHoliday|month|year|Sales|StoreType|Assortment|CompetitionDistance|CompetitionOpenSinceMonth|CompetitionOpenSinceYear|Promo2|Promo2SinceWeek|Promo2SinceYear|  PromoInterval|comp_months|DayOfWeekIndex| DayOfWeekVec|PromoIndex| PromoVec|StateHolidayIndex|StateHolidayVec|SchoolHolidayIndex|SchoolHolidayVec|monthIndex|      monthVec|yearIndex|  yearVec|StoreTypeIndex| StoreTypeVec|AssortmentIndex|AssortmentVec|\n",
      "+-----+---------+-----+------------+-------------+-----+----+-----+---------+----------+-------------------+-------------------------+------------------------+------+---------------+---------------+---------------+-----------+--------------+-------------+----------+---------+-----------------+---------------+------------------+----------------+----------+--------------+---------+---------+--------------+-------------+---------------+-------------+\n",
      "|    2|        5|    1|           0|            1|    7|2015| 6064|        a|         a|                570|                     11.0|                  2007.0|     1|             13|           2010|Jan,Apr,Jul,Oct|       97.0|           3.0|(6,[3],[1.0])|       1.0|(1,[],[])|              0.0|  (3,[0],[1.0])|               1.0|       (1,[],[])|       3.0|(11,[3],[1.0])|      2.0|(2,[],[])|           0.0|(3,[0],[1.0])|            0.0|(2,[0],[1.0])|\n",
      "|    3|        5|    1|           0|            1|    7|2015| 8314|        a|         a|              14130|                     12.0|                  2006.0|     1|             14|           2011|Jan,Apr,Jul,Oct|      108.0|           3.0|(6,[3],[1.0])|       1.0|(1,[],[])|              0.0|  (3,[0],[1.0])|               1.0|       (1,[],[])|       3.0|(11,[3],[1.0])|      2.0|(2,[],[])|           0.0|(3,[0],[1.0])|            0.0|(2,[0],[1.0])|\n",
      "|   11|        5|    1|           0|            1|    7|2015|10457|        a|         c|                960|                     11.0|                  2011.0|     1|              1|           2012|Jan,Apr,Jul,Oct|       49.0|           3.0|(6,[3],[1.0])|       1.0|(1,[],[])|              0.0|  (3,[0],[1.0])|               1.0|       (1,[],[])|       3.0|(11,[3],[1.0])|      2.0|(2,[],[])|           0.0|(3,[0],[1.0])|            1.0|(2,[1],[1.0])|\n",
      "|   12|        5|    1|           0|            1|    7|2015| 8959|        a|         c|               1070|                      0.0|                     0.0|     1|             13|           2010|Jan,Apr,Jul,Oct|        0.0|           3.0|(6,[3],[1.0])|       1.0|(1,[],[])|              0.0|  (3,[0],[1.0])|               1.0|       (1,[],[])|       3.0|(11,[3],[1.0])|      2.0|(2,[],[])|           0.0|(3,[0],[1.0])|            1.0|(2,[1],[1.0])|\n",
      "|   13|        5|    1|           0|            0|    7|2015| 8821|        d|         a|                310|                      0.0|                     0.0|     1|             45|           2009|Feb,May,Aug,Nov|        0.0|           3.0|(6,[3],[1.0])|       1.0|(1,[],[])|              0.0|  (3,[0],[1.0])|               0.0|   (1,[0],[1.0])|       3.0|(11,[3],[1.0])|      2.0|(2,[],[])|           1.0|(3,[1],[1.0])|            0.0|(2,[0],[1.0])|\n",
      "+-----+---------+-----+------------+-------------+-----+----+-----+---------+----------+-------------------+-------------------------+------------------------+------+---------------+---------------+---------------+-----------+--------------+-------------+----------+---------+-----------------+---------------+------------------+----------------+----------+--------------+---------+---------+--------------+-------------+---------------+-------------+\n",
      "only showing top 5 rows\n",
      "\n"
     ]
    }
   ],
   "source": [
    "store_sales_df.show(5)"
   ]
  },
  {
   "cell_type": "code",
   "execution_count": 140,
   "metadata": {},
   "outputs": [],
   "source": [
    "categorical_vecs = [ \"\".join( (cat, \"Vec\") ) for cat in cat_features ]"
   ]
  },
  {
   "cell_type": "code",
   "execution_count": 141,
   "metadata": {},
   "outputs": [
    {
     "data": {
      "text/plain": [
       "['DayOfWeekVec',\n",
       " 'PromoVec',\n",
       " 'StateHolidayVec',\n",
       " 'SchoolHolidayVec',\n",
       " 'monthVec',\n",
       " 'yearVec',\n",
       " 'StoreTypeVec',\n",
       " 'AssortmentVec']"
      ]
     },
     "execution_count": 141,
     "metadata": {},
     "output_type": "execute_result"
    }
   ],
   "source": [
    "categorical_vecs"
   ]
  },
  {
   "cell_type": "code",
   "execution_count": 144,
   "metadata": {},
   "outputs": [],
   "source": [
    "#Including all features for model building\n",
    "\n",
    "all_features= continuous_features + categorical_vecs"
   ]
  },
  {
   "cell_type": "code",
   "execution_count": 145,
   "metadata": {},
   "outputs": [
    {
     "data": {
      "text/plain": [
       "['CompetitionDistance',\n",
       " 'comp_months',\n",
       " 'DayOfWeekVec',\n",
       " 'PromoVec',\n",
       " 'StateHolidayVec',\n",
       " 'SchoolHolidayVec',\n",
       " 'monthVec',\n",
       " 'yearVec',\n",
       " 'StoreTypeVec',\n",
       " 'AssortmentVec']"
      ]
     },
     "execution_count": 145,
     "metadata": {},
     "output_type": "execute_result"
    }
   ],
   "source": [
    "all_features"
   ]
  },
  {
   "cell_type": "code",
   "execution_count": 146,
   "metadata": {},
   "outputs": [],
   "source": [
    "# Creating the vector of all predictors\n",
    "assembler = VectorAssembler( inputCols = all_features, outputCol = \"features\")"
   ]
  },
  {
   "cell_type": "code",
   "execution_count": 147,
   "metadata": {},
   "outputs": [],
   "source": [
    "store_sales_df = assembler.transform( store_sales_df )"
   ]
  },
  {
   "cell_type": "code",
   "execution_count": 148,
   "metadata": {},
   "outputs": [],
   "source": [
    "# Setting the target variables - Sales\n",
    "store_sales_df = store_sales_df.withColumn( \"label\", store_sales_df.Sales.cast( 'double' ) )"
   ]
  },
  {
   "cell_type": "code",
   "execution_count": 149,
   "metadata": {},
   "outputs": [
    {
     "name": "stdout",
     "output_type": "stream",
     "text": [
      "+--------------------+-------+\n",
      "|            features|  label|\n",
      "+--------------------+-------+\n",
      "|(31,[0,1,5,9,16,2...| 6064.0|\n",
      "|(31,[0,1,5,9,16,2...| 8314.0|\n",
      "|(31,[0,1,5,9,16,2...|10457.0|\n",
      "|(31,[0,5,9,16,26,...| 8959.0|\n",
      "|(31,[0,5,9,12,16,...| 8821.0|\n",
      "+--------------------+-------+\n",
      "only showing top 5 rows\n",
      "\n"
     ]
    }
   ],
   "source": [
    "store_sales_df.select( \"features\", \"label\" ).show( 5 )"
   ]
  },
  {
   "cell_type": "code",
   "execution_count": 156,
   "metadata": {},
   "outputs": [],
   "source": [
    "#Split the dataset\n",
    "train_df, test_df = store_sales_df.randomSplit( [0.7, 0.3], seed = 42 )"
   ]
  },
  {
   "cell_type": "code",
   "execution_count": 157,
   "metadata": {},
   "outputs": [],
   "source": [
    "#Train Linear Regression Model\n",
    "from pyspark.ml.regression import LinearRegression"
   ]
  },
  {
   "cell_type": "code",
   "execution_count": 158,
   "metadata": {},
   "outputs": [],
   "source": [
    "linreg = LinearRegression(maxIter=500, regParam=0.0)\n",
    "lm = linreg.fit( train_df )"
   ]
  },
  {
   "cell_type": "code",
   "execution_count": 159,
   "metadata": {},
   "outputs": [
    {
     "data": {
      "text/plain": [
       "7692.316948142101"
      ]
     },
     "execution_count": 159,
     "metadata": {},
     "output_type": "execute_result"
    }
   ],
   "source": [
    "# Intercept and coefficients\n",
    "lm.intercept"
   ]
  },
  {
   "cell_type": "code",
   "execution_count": 160,
   "metadata": {},
   "outputs": [
    {
     "data": {
      "text/plain": [
       "DenseVector([0.0148, 0.7732, 1000.6235, 704.9467, 398.2732, 833.3832, 1749.2102, 450.7182, -2343.2226, 1747.3774, 1042.577, 314.6419, -336.2019, -1991.4841, -1722.6806, -1593.8426, -1824.9593, -1642.6397, -1963.119, -1547.1543, -2058.465, -1908.5632, -1962.0968, -1451.1997, -372.7271, -168.5543, -7353.8661, -7574.7103, -7844.6654, 6817.4094, 7409.7812])"
      ]
     },
     "execution_count": 160,
     "metadata": {},
     "output_type": "execute_result"
    }
   ],
   "source": [
    "lm.coefficients"
   ]
  },
  {
   "cell_type": "code",
   "execution_count": 162,
   "metadata": {},
   "outputs": [
    {
     "name": "stdout",
     "output_type": "stream",
     "text": [
      "+--------------------+------+-----------------+\n",
      "|            features| label|       prediction|\n",
      "+--------------------+------+-----------------+\n",
      "|(31,[0,1,6,8,9,12...|3633.0|6093.341118471883|\n",
      "|(31,[0,1,6,8,9,12...|3678.0|6093.341118471883|\n",
      "|(31,[0,1,6,8,9,12...|3967.0|6333.779576289096|\n",
      "|(31,[0,1,6,8,9,25...|5999.0| 8224.10771370342|\n",
      "|(31,[0,1,6,9,12,1...|7237.0|8408.198688860612|\n",
      "+--------------------+------+-----------------+\n",
      "only showing top 5 rows\n",
      "\n"
     ]
    }
   ],
   "source": [
    "#Making predictions on test data\n",
    "y_pred  =  lm.transform( test_df )\n",
    "y_pred.select( 'features', 'label', 'prediction' ).show( 5 )"
   ]
  },
  {
   "cell_type": "code",
   "execution_count": 163,
   "metadata": {},
   "outputs": [],
   "source": [
    "# Metrics to check the accuracy of model (goodness of fit)\n",
    "#Calculating RMSE and R-Squared\n",
    "from pyspark.ml.evaluation import RegressionEvaluator"
   ]
  },
  {
   "cell_type": "code",
   "execution_count": 164,
   "metadata": {},
   "outputs": [],
   "source": [
    "rmse_evaluator = RegressionEvaluator(labelCol=\"label\",\n",
    "                            predictionCol=\"prediction\",\n",
    "                            metricName=\"rmse\" )"
   ]
  },
  {
   "cell_type": "code",
   "execution_count": 165,
   "metadata": {},
   "outputs": [
    {
     "data": {
      "text/plain": [
       "2344.1233418155234"
      ]
     },
     "execution_count": 165,
     "metadata": {},
     "output_type": "execute_result"
    }
   ],
   "source": [
    "lm_rmse = rmse_evaluator.evaluate( y_pred )\n",
    "lm_rmse"
   ]
  },
  {
   "cell_type": "code",
   "execution_count": 166,
   "metadata": {},
   "outputs": [
    {
     "data": {
      "text/plain": [
       "0.2640729555935112"
      ]
     },
     "execution_count": 166,
     "metadata": {},
     "output_type": "execute_result"
    }
   ],
   "source": [
    "r2_evaluator = RegressionEvaluator(labelCol=\"label\",\n",
    "                            predictionCol=\"prediction\",\n",
    "                            metricName=\"r2\" )\n",
    "lm_r2 = r2_evaluator.evaluate( y_pred )\n",
    "lm_r2"
   ]
  },
  {
   "cell_type": "markdown",
   "metadata": {},
   "source": [
    "Accuracy of the model is very poor. This may be because we do not have right or enough variables which can predict the sales better. We can do feature engineering to create more features."
   ]
  },
  {
   "cell_type": "markdown",
   "metadata": {},
   "source": [
    "### Model building after feature engineering"
   ]
  },
  {
   "cell_type": "markdown",
   "metadata": {},
   "source": [
    "#### Feature Engineering\n",
    "- The sales might be influenced by if the next day is a holiday.\n",
    "- What is the sales for the last 2 and 5 days?"
   ]
  },
  {
   "cell_type": "code",
   "execution_count": 168,
   "metadata": {},
   "outputs": [
    {
     "name": "stdout",
     "output_type": "stream",
     "text": [
      "+-----+---------+-------------------+-----+---------+----+-----+------------+-------------+-----+----+\n",
      "|Store|DayOfWeek|               Date|Sales|Customers|Open|Promo|StateHoliday|SchoolHoliday|month|year|\n",
      "+-----+---------+-------------------+-----+---------+----+-----+------------+-------------+-----+----+\n",
      "|    1|        5|2015-07-31 00:00:00| 5263|      555|   1|    1|           0|            1|    7|2015|\n",
      "|    2|        5|2015-07-31 00:00:00| 6064|      625|   1|    1|           0|            1|    7|2015|\n",
      "|    3|        5|2015-07-31 00:00:00| 8314|      821|   1|    1|           0|            1|    7|2015|\n",
      "|    4|        5|2015-07-31 00:00:00|13995|     1498|   1|    1|           0|            1|    7|2015|\n",
      "|    5|        5|2015-07-31 00:00:00| 4822|      559|   1|    1|           0|            1|    7|2015|\n",
      "+-----+---------+-------------------+-----+---------+----+-----+------------+-------------+-----+----+\n",
      "only showing top 5 rows\n",
      "\n"
     ]
    }
   ],
   "source": [
    "#Is the next day a state holiday?\n",
    "retail_df.show(5)"
   ]
  },
  {
   "cell_type": "code",
   "execution_count": 169,
   "metadata": {},
   "outputs": [
    {
     "name": "stdout",
     "output_type": "stream",
     "text": [
      "+-----+---------+-------------------+-----+---------+----+-----+------------+-------------+-----+----+----------------------+\n",
      "|Store|DayOfWeek|               Date|Sales|Customers|Open|Promo|StateHoliday|SchoolHoliday|month|year|next_day_state_holiday|\n",
      "+-----+---------+-------------------+-----+---------+----+-----+------------+-------------+-----+----+----------------------+\n",
      "|  148|        2|2013-01-01 00:00:00|    0|        0|   0|    0|           a|            1|    1|2013|                     0|\n",
      "|  148|        3|2013-01-02 00:00:00| 7944|      781|   1|    0|           0|            1|    1|2013|                     0|\n",
      "|  148|        4|2013-01-03 00:00:00| 7517|      753|   1|    0|           0|            1|    1|2013|                     0|\n",
      "|  148|        5|2013-01-04 00:00:00| 7482|      721|   1|    0|           0|            1|    1|2013|                     0|\n",
      "|  148|        6|2013-01-05 00:00:00| 7750|      756|   1|    0|           0|            0|    1|2013|                     0|\n",
      "+-----+---------+-------------------+-----+---------+----+-----+------------+-------------+-----+----+----------------------+\n",
      "only showing top 5 rows\n",
      "\n"
     ]
    }
   ],
   "source": [
    "from pyspark.sql.functions import lag, col, lead\n",
    "from pyspark.sql.window import Window\n",
    "\n",
    "w = Window().partitionBy(\"Store\").orderBy(col(\"Date\"))\n",
    "retail_new_df = retail_df.select(\"*\", lead(\"StateHoliday\").over(w).alias(\"next_day_state_holiday\"))\n",
    "retail_new_df.cache()\n",
    "retail_new_df.show(5)"
   ]
  },
  {
   "cell_type": "code",
   "execution_count": 170,
   "metadata": {},
   "outputs": [
    {
     "name": "stdout",
     "output_type": "stream",
     "text": [
      "+-----+---------+-------------------+-----+---------+----+-----+------------+-------------+-----+----+----------------------+-----------------------+\n",
      "|Store|DayOfWeek|               Date|Sales|Customers|Open|Promo|StateHoliday|SchoolHoliday|month|year|next_day_state_holiday|next_day_school_holiday|\n",
      "+-----+---------+-------------------+-----+---------+----+-----+------------+-------------+-----+----+----------------------+-----------------------+\n",
      "|  148|        2|2013-01-01 00:00:00|    0|        0|   0|    0|           a|            1|    1|2013|                     0|                      1|\n",
      "|  148|        3|2013-01-02 00:00:00| 7944|      781|   1|    0|           0|            1|    1|2013|                     0|                      1|\n",
      "|  148|        4|2013-01-03 00:00:00| 7517|      753|   1|    0|           0|            1|    1|2013|                     0|                      1|\n",
      "|  148|        5|2013-01-04 00:00:00| 7482|      721|   1|    0|           0|            1|    1|2013|                     0|                      0|\n",
      "|  148|        6|2013-01-05 00:00:00| 7750|      756|   1|    0|           0|            0|    1|2013|                     0|                      0|\n",
      "+-----+---------+-------------------+-----+---------+----+-----+------------+-------------+-----+----+----------------------+-----------------------+\n",
      "only showing top 5 rows\n",
      "\n"
     ]
    }
   ],
   "source": [
    "# Is the next day a school holiday?\n",
    "w = Window().partitionBy(\"Store\").orderBy(col(\"Date\"))\n",
    "retail_new_df = retail_new_df.select(\"*\", lead(\"SchoolHoliday\").over(w).alias(\"next_day_school_holiday\"))\n",
    "retail_new_df.cache()\n",
    "retail_new_df.show(5)"
   ]
  },
  {
   "cell_type": "code",
   "execution_count": 172,
   "metadata": {},
   "outputs": [],
   "source": [
    "# mean sales for the last 2 days\n",
    "\n",
    "w  =  Window().partitionBy(\"Store\").orderBy(\"Date\")\n",
    "\n",
    "retail_new_df = retail_new_df.withColumn(\"avg_sales_last_2days\",\n",
    "                                       ( lag(\"Sales\", 1).over(w) + lag(\"Sales\", 2).over(w) ) / 2 )"
   ]
  },
  {
   "cell_type": "code",
   "execution_count": 173,
   "metadata": {},
   "outputs": [
    {
     "name": "stdout",
     "output_type": "stream",
     "text": [
      "+-----+---------+-------------------+-----+---------+----+-----+------------+-------------+-----+----+----------------------+-----------------------+--------------------+\n",
      "|Store|DayOfWeek|               Date|Sales|Customers|Open|Promo|StateHoliday|SchoolHoliday|month|year|next_day_state_holiday|next_day_school_holiday|avg_sales_last_2days|\n",
      "+-----+---------+-------------------+-----+---------+----+-----+------------+-------------+-----+----+----------------------+-----------------------+--------------------+\n",
      "|  148|        2|2013-01-01 00:00:00|    0|        0|   0|    0|           a|            1|    1|2013|                     0|                      1|                null|\n",
      "|  148|        3|2013-01-02 00:00:00| 7944|      781|   1|    0|           0|            1|    1|2013|                     0|                      1|                null|\n",
      "|  148|        4|2013-01-03 00:00:00| 7517|      753|   1|    0|           0|            1|    1|2013|                     0|                      1|              3972.0|\n",
      "|  148|        5|2013-01-04 00:00:00| 7482|      721|   1|    0|           0|            1|    1|2013|                     0|                      0|              7730.5|\n",
      "|  148|        6|2013-01-05 00:00:00| 7750|      756|   1|    0|           0|            0|    1|2013|                     0|                      0|              7499.5|\n",
      "+-----+---------+-------------------+-----+---------+----+-----+------------+-------------+-----+----+----------------------+-----------------------+--------------------+\n",
      "only showing top 5 rows\n",
      "\n"
     ]
    }
   ],
   "source": [
    "retail_new_df.show(5)"
   ]
  },
  {
   "cell_type": "code",
   "execution_count": 174,
   "metadata": {},
   "outputs": [],
   "source": [
    "w = Window().partitionBy(\"Store\").orderBy(\"Date\")\n",
    "\n",
    "retail_new_df = retail_new_df.withColumn(\"avg_sales_last_5days\",\n",
    "                                       ( lag(\"Sales\", 1).over(w)\n",
    "                                        + lag(\"Sales\", 2).over(w)\n",
    "                                        + lag(\"Sales\", 3).over(w)\n",
    "                                        + lag(\"Sales\", 4).over(w)\n",
    "                                        + lag(\"Sales\", 5).over(w) ) / 5 )"
   ]
  },
  {
   "cell_type": "code",
   "execution_count": 175,
   "metadata": {},
   "outputs": [
    {
     "name": "stdout",
     "output_type": "stream",
     "text": [
      "+-----+---------+-------------------+-----+---------+----+-----+------------+-------------+-----+----+----------------------+-----------------------+--------------------+--------------------+\n",
      "|Store|DayOfWeek|               Date|Sales|Customers|Open|Promo|StateHoliday|SchoolHoliday|month|year|next_day_state_holiday|next_day_school_holiday|avg_sales_last_2days|avg_sales_last_5days|\n",
      "+-----+---------+-------------------+-----+---------+----+-----+------------+-------------+-----+----+----------------------+-----------------------+--------------------+--------------------+\n",
      "|  148|        2|2013-01-01 00:00:00|    0|        0|   0|    0|           a|            1|    1|2013|                     0|                      1|                null|                null|\n",
      "|  148|        3|2013-01-02 00:00:00| 7944|      781|   1|    0|           0|            1|    1|2013|                     0|                      1|                null|                null|\n",
      "|  148|        4|2013-01-03 00:00:00| 7517|      753|   1|    0|           0|            1|    1|2013|                     0|                      1|              3972.0|                null|\n",
      "|  148|        5|2013-01-04 00:00:00| 7482|      721|   1|    0|           0|            1|    1|2013|                     0|                      0|              7730.5|                null|\n",
      "|  148|        6|2013-01-05 00:00:00| 7750|      756|   1|    0|           0|            0|    1|2013|                     0|                      0|              7499.5|                null|\n",
      "|  148|        7|2013-01-06 00:00:00|    0|        0|   0|    0|           0|            0|    1|2013|                     0|                      0|              7616.0|              6138.6|\n",
      "|  148|        1|2013-01-07 00:00:00|11901|     1079|   1|    1|           0|            0|    1|2013|                     0|                      0|              3875.0|              6138.6|\n",
      "|  148|        2|2013-01-08 00:00:00| 9363|      885|   1|    1|           0|            0|    1|2013|                     0|                      0|              5950.5|              6930.0|\n",
      "|  148|        3|2013-01-09 00:00:00| 8578|      823|   1|    1|           0|            0|    1|2013|                     0|                      0|             10632.0|              7299.2|\n",
      "|  148|        4|2013-01-10 00:00:00| 8722|      828|   1|    1|           0|            0|    1|2013|                     0|                      0|              8970.5|              7518.4|\n",
      "+-----+---------+-------------------+-----+---------+----+-----+------------+-------------+-----+----+----------------------+-----------------------+--------------------+--------------------+\n",
      "only showing top 10 rows\n",
      "\n"
     ]
    }
   ],
   "source": [
    "retail_new_df.show( 10 )"
   ]
  },
  {
   "cell_type": "code",
   "execution_count": 176,
   "metadata": {},
   "outputs": [],
   "source": [
    "# Average sales per store for each month\n",
    "avg_sales_store_by_month = retail_new_df.groupBy( \"Store\", \"month\" ).avg( \"Sales\" )"
   ]
  },
  {
   "cell_type": "code",
   "execution_count": 177,
   "metadata": {},
   "outputs": [
    {
     "name": "stdout",
     "output_type": "stream",
     "text": [
      "+-----+-----+------------------+\n",
      "|Store|month|        avg(Sales)|\n",
      "+-----+-----+------------------+\n",
      "|  148|    1| 6933.451612903225|\n",
      "|  148|    2|7115.5952380952385|\n",
      "|  148|    3| 7271.602150537635|\n",
      "|  148|    4| 7273.922222222222|\n",
      "|  148|    5| 6978.043010752688|\n",
      "+-----+-----+------------------+\n",
      "only showing top 5 rows\n",
      "\n"
     ]
    }
   ],
   "source": [
    "avg_sales_store_by_month.show( 5 )"
   ]
  },
  {
   "cell_type": "code",
   "execution_count": 178,
   "metadata": {},
   "outputs": [],
   "source": [
    "retail_new_df = retail_new_df.join( avg_sales_store_by_month, on = [\"Store\", \"month\"], how = \"inner\" )"
   ]
  },
  {
   "cell_type": "code",
   "execution_count": 179,
   "metadata": {},
   "outputs": [],
   "source": [
    "from pyspark.sql.functions import round"
   ]
  },
  {
   "cell_type": "code",
   "execution_count": 182,
   "metadata": {},
   "outputs": [],
   "source": [
    "retail_new_df = retail_new_df.withColumn( \"avg_sales_by_month\",\n",
    "                                       round( retail_new_df[\"avg(Sales)\"], 2 ) )"
   ]
  },
  {
   "cell_type": "code",
   "execution_count": 183,
   "metadata": {},
   "outputs": [],
   "source": [
    "store_sales_new_df = store_sales_df = retail_new_df.select('Store',\n",
    "                                                   'DayOfWeek',\n",
    "                                                   'Promo',\n",
    "                                                   'StateHoliday',\n",
    "                                                   'SchoolHoliday',\n",
    "                                                   'month',\n",
    "                                                   'year',\n",
    "                                                   'Sales',\n",
    "                                                   'next_day_state_holiday',\n",
    "                                                   'next_day_school_holiday',\n",
    "                                                   'avg_sales_last_2days',\n",
    "                                                   'avg_sales_last_5days',\n",
    "                                                   'avg_sales_by_month'\n",
    "                                                  )"
   ]
  },
  {
   "cell_type": "code",
   "execution_count": 184,
   "metadata": {},
   "outputs": [],
   "source": [
    "store_sales_new_df = store_sales_new_df.join( stores_df, on = \"Store\", how = \"inner\" )"
   ]
  },
  {
   "cell_type": "code",
   "execution_count": 185,
   "metadata": {},
   "outputs": [
    {
     "name": "stdout",
     "output_type": "stream",
     "text": [
      "+-----+---------+-----+------------+-------------+-----+----+-----+----------------------+-----------------------+--------------------+--------------------+------------------+---------+----------+-------------------+-------------------------+------------------------+------+---------------+---------------+-------------+-----------+\n",
      "|Store|DayOfWeek|Promo|StateHoliday|SchoolHoliday|month|year|Sales|next_day_state_holiday|next_day_school_holiday|avg_sales_last_2days|avg_sales_last_5days|avg_sales_by_month|StoreType|Assortment|CompetitionDistance|CompetitionOpenSinceMonth|CompetitionOpenSinceYear|Promo2|Promo2SinceWeek|Promo2SinceYear|PromoInterval|comp_months|\n",
      "+-----+---------+-----+------------+-------------+-----+----+-----+----------------------+-----------------------+--------------------+--------------------+------------------+---------+----------+-------------------+-------------------------+------------------------+------+---------------+---------------+-------------+-----------+\n",
      "|  148|        2|    0|           a|            1|    1|2013|    0|                     0|                      1|                null|                null|           6933.45|        a|         a|               2090|                     12.0|                  2008.0|     0|              0|              0|         null|       84.0|\n",
      "|  148|        3|    0|           0|            1|    1|2013| 7944|                     0|                      1|                null|                null|           6933.45|        a|         a|               2090|                     12.0|                  2008.0|     0|              0|              0|         null|       84.0|\n",
      "|  148|        4|    0|           0|            1|    1|2013| 7517|                     0|                      1|              3972.0|                null|           6933.45|        a|         a|               2090|                     12.0|                  2008.0|     0|              0|              0|         null|       84.0|\n",
      "|  148|        5|    0|           0|            1|    1|2013| 7482|                     0|                      0|              7730.5|                null|           6933.45|        a|         a|               2090|                     12.0|                  2008.0|     0|              0|              0|         null|       84.0|\n",
      "|  148|        6|    0|           0|            0|    1|2013| 7750|                     0|                      0|              7499.5|                null|           6933.45|        a|         a|               2090|                     12.0|                  2008.0|     0|              0|              0|         null|       84.0|\n",
      "+-----+---------+-----+------------+-------------+-----+----+-----+----------------------+-----------------------+--------------------+--------------------+------------------+---------+----------+-------------------+-------------------------+------------------------+------+---------------+---------------+-------------+-----------+\n",
      "only showing top 5 rows\n",
      "\n"
     ]
    }
   ],
   "source": [
    "store_sales_new_df.cache()\n",
    "store_sales_new_df.show(5)"
   ]
  },
  {
   "cell_type": "code",
   "execution_count": 186,
   "metadata": {},
   "outputs": [
    {
     "data": {
      "text/plain": [
       "['DayOfWeek',\n",
       " 'Promo',\n",
       " 'StateHoliday',\n",
       " 'SchoolHoliday',\n",
       " 'month',\n",
       " 'year',\n",
       " 'StoreType',\n",
       " 'Assortment',\n",
       " 'next_day_state_holiday',\n",
       " 'next_day_school_holiday']"
      ]
     },
     "execution_count": 186,
     "metadata": {},
     "output_type": "execute_result"
    }
   ],
   "source": [
    "#Considering the new features\n",
    "cat_features_new = cat_features + ['next_day_state_holiday', 'next_day_school_holiday']\n",
    "cat_features_new"
   ]
  },
  {
   "cell_type": "code",
   "execution_count": 187,
   "metadata": {},
   "outputs": [
    {
     "data": {
      "text/plain": [
       "['CompetitionDistance',\n",
       " 'comp_months',\n",
       " 'avg_sales_last_2days',\n",
       " 'avg_sales_last_5days',\n",
       " 'avg_sales_by_month']"
      ]
     },
     "execution_count": 187,
     "metadata": {},
     "output_type": "execute_result"
    }
   ],
   "source": [
    "continuous_features_new = continuous_features + ['avg_sales_last_2days', 'avg_sales_last_5days', 'avg_sales_by_month']\n",
    "continuous_features_new"
   ]
  },
  {
   "cell_type": "code",
   "execution_count": 188,
   "metadata": {},
   "outputs": [
    {
     "name": "stdout",
     "output_type": "stream",
     "text": [
      "+-----+---------+-----+------------+-------------+-----+----+-----+----------------------+-----------------------+--------------------+--------------------+------------------+---------+----------+-------------------+-------------------------+------------------------+------+---------------+---------------+-------------+-----------+\n",
      "|Store|DayOfWeek|Promo|StateHoliday|SchoolHoliday|month|year|Sales|next_day_state_holiday|next_day_school_holiday|avg_sales_last_2days|avg_sales_last_5days|avg_sales_by_month|StoreType|Assortment|CompetitionDistance|CompetitionOpenSinceMonth|CompetitionOpenSinceYear|Promo2|Promo2SinceWeek|Promo2SinceYear|PromoInterval|comp_months|\n",
      "+-----+---------+-----+------------+-------------+-----+----+-----+----------------------+-----------------------+--------------------+--------------------+------------------+---------+----------+-------------------+-------------------------+------------------------+------+---------------+---------------+-------------+-----------+\n",
      "|  148|        2|    0|           a|            1|    1|2013|    0|                     0|                      1|                null|                null|           6933.45|        a|         a|               2090|                     12.0|                  2008.0|     0|              0|              0|         null|       84.0|\n",
      "|  148|        3|    0|           0|            1|    1|2013| 7944|                     0|                      1|                null|                null|           6933.45|        a|         a|               2090|                     12.0|                  2008.0|     0|              0|              0|         null|       84.0|\n",
      "|  148|        4|    0|           0|            1|    1|2013| 7517|                     0|                      1|              3972.0|                null|           6933.45|        a|         a|               2090|                     12.0|                  2008.0|     0|              0|              0|         null|       84.0|\n",
      "|  148|        5|    0|           0|            1|    1|2013| 7482|                     0|                      0|              7730.5|                null|           6933.45|        a|         a|               2090|                     12.0|                  2008.0|     0|              0|              0|         null|       84.0|\n",
      "|  148|        6|    0|           0|            0|    1|2013| 7750|                     0|                      0|              7499.5|                null|           6933.45|        a|         a|               2090|                     12.0|                  2008.0|     0|              0|              0|         null|       84.0|\n",
      "+-----+---------+-----+------------+-------------+-----+----+-----+----------------------+-----------------------+--------------------+--------------------+------------------+---------+----------+-------------------+-------------------------+------------------------+------+---------------+---------------+-------------+-----------+\n",
      "only showing top 5 rows\n",
      "\n"
     ]
    }
   ],
   "source": [
    "#Encoding the categorical features\n",
    "store_sales_new_df.show(5)"
   ]
  },
  {
   "cell_type": "code",
   "execution_count": 189,
   "metadata": {},
   "outputs": [],
   "source": [
    "# Dropping all observations will null values\n",
    "store_sales_new_df = store_sales_new_df.na.drop( how = 'any' )"
   ]
  },
  {
   "cell_type": "code",
   "execution_count": 190,
   "metadata": {},
   "outputs": [],
   "source": [
    "for col in cat_features_new:\n",
    "    store_sales_new_df = create_category_vars( store_sales_new_df, col )\n",
    "    store_sales_new_df.cache()"
   ]
  },
  {
   "cell_type": "code",
   "execution_count": 191,
   "metadata": {},
   "outputs": [],
   "source": [
    "categorical_vecs_new = [ \"\".join( (cat, \"Vec\") ) for cat in cat_features_new ]"
   ]
  },
  {
   "cell_type": "code",
   "execution_count": 192,
   "metadata": {},
   "outputs": [
    {
     "data": {
      "text/plain": [
       "['DayOfWeekVec',\n",
       " 'PromoVec',\n",
       " 'StateHolidayVec',\n",
       " 'SchoolHolidayVec',\n",
       " 'monthVec',\n",
       " 'yearVec',\n",
       " 'StoreTypeVec',\n",
       " 'AssortmentVec',\n",
       " 'next_day_state_holidayVec',\n",
       " 'next_day_school_holidayVec']"
      ]
     },
     "execution_count": 192,
     "metadata": {},
     "output_type": "execute_result"
    }
   ],
   "source": [
    "categorical_vecs_new"
   ]
  },
  {
   "cell_type": "code",
   "execution_count": 193,
   "metadata": {},
   "outputs": [
    {
     "data": {
      "text/plain": [
       "['CompetitionDistance',\n",
       " 'comp_months',\n",
       " 'avg_sales_last_2days',\n",
       " 'avg_sales_last_5days',\n",
       " 'avg_sales_by_month',\n",
       " 'DayOfWeekVec',\n",
       " 'PromoVec',\n",
       " 'StateHolidayVec',\n",
       " 'SchoolHolidayVec',\n",
       " 'monthVec',\n",
       " 'yearVec',\n",
       " 'StoreTypeVec',\n",
       " 'AssortmentVec',\n",
       " 'next_day_state_holidayVec',\n",
       " 'next_day_school_holidayVec']"
      ]
     },
     "execution_count": 193,
     "metadata": {},
     "output_type": "execute_result"
    }
   ],
   "source": [
    "all_features_new = continuous_features_new + categorical_vecs_new\n",
    "all_features_new"
   ]
  },
  {
   "cell_type": "code",
   "execution_count": 194,
   "metadata": {},
   "outputs": [
    {
     "name": "stdout",
     "output_type": "stream",
     "text": [
      "+--------------------+------+\n",
      "|            features| label|\n",
      "+--------------------+------+\n",
      "|(38,[0,2,3,4,7,11...|   0.0|\n",
      "|(38,[0,2,3,4,6,12...|9568.0|\n",
      "|(38,[0,2,3,4,8,12...|8215.0|\n",
      "|(38,[0,2,3,4,9,12...|7291.0|\n",
      "|(38,[0,2,3,4,5,12...|7294.0|\n",
      "+--------------------+------+\n",
      "only showing top 5 rows\n",
      "\n"
     ]
    }
   ],
   "source": [
    "#Creating vector of all features and target variable\n",
    "assembler = VectorAssembler( inputCols = all_features_new, outputCol = \"features\")\n",
    "store_sales_new_df = assembler.transform( store_sales_new_df )\n",
    "store_sales_new_df = store_sales_new_df.withColumn( \"label\", store_sales_new_df.Sales.cast( 'double' ) )\n",
    "store_sales_new_df.select( \"features\", \"label\" ).show( 5 )"
   ]
  },
  {
   "cell_type": "code",
   "execution_count": 195,
   "metadata": {},
   "outputs": [],
   "source": [
    "#Splitting dataset\n",
    "seed = 42\n",
    "\n",
    "train_df, test_df = store_sales_new_df.randomSplit( [0.7, 0.3], seed = seed )"
   ]
  },
  {
   "cell_type": "code",
   "execution_count": 197,
   "metadata": {},
   "outputs": [],
   "source": [
    "# Building the model\n",
    "linreg = LinearRegression(maxIter=500, regParam=0.0) \n",
    "lm = linreg.fit( train_df )"
   ]
  },
  {
   "cell_type": "code",
   "execution_count": 198,
   "metadata": {},
   "outputs": [
    {
     "data": {
      "text/plain": [
       "-4460.333481235426"
      ]
     },
     "execution_count": 198,
     "metadata": {},
     "output_type": "execute_result"
    }
   ],
   "source": [
    "#Model intercept and coefficients\n",
    "lm.intercept"
   ]
  },
  {
   "cell_type": "code",
   "execution_count": 199,
   "metadata": {},
   "outputs": [
    {
     "data": {
      "text/plain": [
       "DenseVector([0.0001, 0.0042, 0.1018, -0.1356, 1.0324, -722.5312, 934.4626, -5609.3283, -167.3494, -814.0988, -289.7708, -2185.3928, 5764.6377, -340.6799, -1465.0111, -201.5787, 374.1541, -95.7133, 22.4533, 81.7169, 35.3683, -92.0791, -397.2274, 470.7493, -159.5488, 64.9963, 55.195, -309.2197, -149.8962, -37.2718, -31.1228, -34.6414, 33.7698, 22.9525, 1590.9295, 2341.4141, 2618.9053, -89.0204])"
      ]
     },
     "execution_count": 199,
     "metadata": {},
     "output_type": "execute_result"
    }
   ],
   "source": [
    "lm.coefficients"
   ]
  },
  {
   "cell_type": "code",
   "execution_count": 200,
   "metadata": {},
   "outputs": [
    {
     "name": "stdout",
     "output_type": "stream",
     "text": [
      "+--------------------+------+-----------------+\n",
      "|            features| label|       prediction|\n",
      "+--------------------+------+-----------------+\n",
      "|(38,[0,2,3,4,6,11...|5940.0|6585.964268811464|\n",
      "|(38,[0,2,3,4,6,11...|5440.0|6741.238537988245|\n",
      "|(38,[0,2,3,4,6,11...|5897.0|6714.655856234724|\n",
      "|(38,[0,2,3,4,6,11...|5492.0|6757.185621947325|\n",
      "|(38,[0,2,3,4,6,11...|5752.0|6860.965198139051|\n",
      "+--------------------+------+-----------------+\n",
      "only showing top 5 rows\n",
      "\n"
     ]
    }
   ],
   "source": [
    "#Predicting on test dataset\n",
    "y_pred = lm.transform( test_df )\n",
    "y_pred.select( 'features', 'label', 'prediction' ).show( 5 )"
   ]
  },
  {
   "cell_type": "code",
   "execution_count": 201,
   "metadata": {},
   "outputs": [
    {
     "data": {
      "text/plain": [
       "0.8170474412393387"
      ]
     },
     "execution_count": 201,
     "metadata": {},
     "output_type": "execute_result"
    }
   ],
   "source": [
    "#Calculating model accuracy: RMSE and R-Squared\n",
    "r2_evaluator = RegressionEvaluator(labelCol=\"label\",\n",
    "                            predictionCol=\"prediction\",\n",
    "                            metricName=\"r2\" )\n",
    "\n",
    "lm_r2 = r2_evaluator.evaluate( y_pred )\n",
    "lm_r2"
   ]
  },
  {
   "cell_type": "code",
   "execution_count": 202,
   "metadata": {},
   "outputs": [
    {
     "data": {
      "text/plain": [
       "1502.8101426255262"
      ]
     },
     "execution_count": 202,
     "metadata": {},
     "output_type": "execute_result"
    }
   ],
   "source": [
    "rmse_evaluator = RegressionEvaluator(labelCol=\"label\",\n",
    "                            predictionCol=\"prediction\",\n",
    "                            metricName=\"rmse\" )\n",
    "\n",
    "lm_rmse = rmse_evaluator.evaluate( y_pred )\n",
    "lm_rmse"
   ]
  },
  {
   "cell_type": "markdown",
   "metadata": {},
   "source": [
    "The new model has good prediction accuracy. The new variables seem to have increased accuracy of the model."
   ]
  },
  {
   "cell_type": "code",
   "execution_count": null,
   "metadata": {},
   "outputs": [],
   "source": []
  }
 ],
 "metadata": {
  "kernelspec": {
   "display_name": "Python 3 (ipykernel)",
   "language": "python",
   "name": "python3"
  },
  "language_info": {
   "codemirror_mode": {
    "name": "ipython",
    "version": 3
   },
   "file_extension": ".py",
   "mimetype": "text/x-python",
   "name": "python",
   "nbconvert_exporter": "python",
   "pygments_lexer": "ipython3",
   "version": "3.9.7"
  },
  "varInspector": {
   "cols": {
    "lenName": 16,
    "lenType": 16,
    "lenVar": 40
   },
   "kernels_config": {
    "python": {
     "delete_cmd_postfix": "",
     "delete_cmd_prefix": "del ",
     "library": "var_list.py",
     "varRefreshCmd": "print(var_dic_list())"
    },
    "r": {
     "delete_cmd_postfix": ") ",
     "delete_cmd_prefix": "rm(",
     "library": "var_list.r",
     "varRefreshCmd": "cat(var_dic_list()) "
    }
   },
   "types_to_exclude": [
    "module",
    "function",
    "builtin_function_or_method",
    "instance",
    "_Feature"
   ],
   "window_display": false
  }
 },
 "nbformat": 4,
 "nbformat_minor": 2
}
